{
  "cells": [
    {
      "cell_type": "markdown",
      "metadata": {
        "id": "pbwA7e12AVLe"
      },
      "source": [
        "# **Sentiment Analysis using LSTM**\n",
        "In this week's graded assignment, you will implement a neural network that will perform senyiment analysis on movie reviews and classify them as positive or negative.\n",
        "\n",
        "You are to only write/modify the code in between consecutive `# <START>` and `# <END>` comments. DO NOT modify other parts of the notebook, your assignments will not be graded otherwise.\n",
        "\n",
        "```python\n",
        "\"Don't modify any code here\"\n",
        "\n",
        "# <START>\n",
        "\"YOUR CODE GOES HERE!\"\n",
        "# <END>\n",
        "\n",
        "\"Don't modify any code here\"\n",
        "```\n",
        "## **Before you begin**\n",
        "Before you start with the assignment, you will have to upload the CSV file containing the movie reviews you will classify to your Google Drive. Here's a link to the dataset: [Dataset Link](https://drive.google.com/file/d/1nqmfdx7dj5qgynVwzD1CMjFFZoBeKrmD/view?usp=sharing)  \n",
        "Download **reviews.csv** and upload it to your Drive.\n",
        "\n",
        "### **Make sure to upload to the same account that you are using on Colab, otherwise you won't be able to access the files**\n"
      ]
    },
    {
      "cell_type": "markdown",
      "metadata": {
        "id": "D0lIe1uahq_L"
      },
      "source": [
        "## **Mounting Google Drive**\n",
        "First, we need to import the dataset from your Google Drive. To do so, **run the below cell**. This will mount your Drive to the running Colab instance. Then, you will be able to access all your Google Drive data in this notebook."
      ]
    },
    {
      "cell_type": "code",
      "execution_count": null,
      "metadata": {
        "id": "ObnNbRJPQrYK",
        "colab": {
          "base_uri": "https://localhost:8080/"
        },
        "outputId": "7b10b53e-dd7f-4cbd-f960-311648f8a258"
      },
      "outputs": [
        {
          "output_type": "stream",
          "name": "stdout",
          "text": [
            "Mounted at /content/drive\n"
          ]
        }
      ],
      "source": [
        "from google.colab import drive\n",
        "drive.mount('/content/drive')"
      ]
    },
    {
      "cell_type": "markdown",
      "metadata": {
        "id": "ElYLMOGFBq1r"
      },
      "source": [
        "## **Import the Libraries**\n",
        "\n",
        "Run the cell below to import all the necessary libraries for building the sentiment analysis model."
      ]
    },
    {
      "cell_type": "code",
      "execution_count": null,
      "metadata": {
        "id": "eNUw4hS8BrbK",
        "colab": {
          "base_uri": "https://localhost:8080/"
        },
        "outputId": "8dac4feb-029c-4636-e27c-c8f0eef90a5c"
      },
      "outputs": [
        {
          "output_type": "stream",
          "name": "stderr",
          "text": [
            "[nltk_data] Downloading package punkt to /root/nltk_data...\n",
            "[nltk_data]   Unzipping tokenizers/punkt.zip.\n",
            "[nltk_data] Downloading package stopwords to /root/nltk_data...\n",
            "[nltk_data]   Unzipping corpora/stopwords.zip.\n",
            "[nltk_data] Downloading package wordnet to /root/nltk_data...\n"
          ]
        },
        {
          "output_type": "stream",
          "name": "stdout",
          "text": [
            "Requirement already satisfied: tqdm in /usr/local/lib/python3.10/dist-packages (4.66.0)\n"
          ]
        }
      ],
      "source": [
        "import numpy as np\n",
        "import pandas as pd\n",
        "import seaborn as sns\n",
        "import matplotlib.pyplot as plt\n",
        "import torch\n",
        "import torch.nn as nn\n",
        "import torch.nn.functional as F\n",
        "\n",
        "device = 'cuda' if torch.cuda.is_available() else 'cpu'\n",
        "\n",
        "import nltk\n",
        "nltk.download('punkt')\n",
        "nltk.download('stopwords')\n",
        "nltk.download('wordnet')\n",
        "from nltk.corpus import stopwords\n",
        "from nltk.stem import WordNetLemmatizer\n",
        "from nltk.tokenize import RegexpTokenizer\n",
        "\n",
        "!pip install tqdm\n",
        "from tqdm import tqdm\n",
        "from torch.utils.data import TensorDataset, DataLoader\n",
        "from sklearn.model_selection import train_test_split"
      ]
    },
    {
      "cell_type": "markdown",
      "source": [
        "## **Loading the Dataset**\n",
        "\n",
        "The below cell contains a function `getdata`, which takes as argument the path to `reviews.csv` in your Google Drive, loads the CSV file into a Pandas DataFrame and finally returns the DataFrame.\n",
        "\n",
        "Complete the function and then add the path to `IMDB Dataset.csv` in the space indicated. Run the cell to load the dataset."
      ],
      "metadata": {
        "id": "-q-caOpJ_qhU"
      }
    },
    {
      "cell_type": "code",
      "source": [
        "def getdata(path):\n",
        "\n",
        "  # <START>\n",
        "  df = pd.read_csv(path)\n",
        "  return df\n",
        "  # <END>\n",
        "\n",
        "# Insert the path to the file in the space below\n",
        "# <START>\n",
        "path = '/content/drive/MyDrive/NLP/reviews.csv'\n",
        "# <END>\n",
        "\n",
        "df = getdata(path)\n",
        "df.head(5)"
      ],
      "metadata": {
        "id": "lpaOs3EkAgJC",
        "colab": {
          "base_uri": "https://localhost:8080/",
          "height": 206
        },
        "outputId": "1715aa88-7648-4349-b20f-52b5eb834184"
      },
      "execution_count": null,
      "outputs": [
        {
          "output_type": "execute_result",
          "data": {
            "text/plain": [
              "                                              review sentiment\n",
              "0  One of the other reviewers has mentioned that ...  positive\n",
              "1  A wonderful little production. <br /><br />The...  positive\n",
              "2  I thought this was a wonderful way to spend ti...  positive\n",
              "3  Basically there's a family where a little boy ...  negative\n",
              "4  Petter Mattei's \"Love in the Time of Money\" is...  positive"
            ],
            "text/html": [
              "\n",
              "\n",
              "  <div id=\"df-1d0609e4-350b-4a0b-8c7c-11b4fda78a12\">\n",
              "    <div class=\"colab-df-container\">\n",
              "      <div>\n",
              "<style scoped>\n",
              "    .dataframe tbody tr th:only-of-type {\n",
              "        vertical-align: middle;\n",
              "    }\n",
              "\n",
              "    .dataframe tbody tr th {\n",
              "        vertical-align: top;\n",
              "    }\n",
              "\n",
              "    .dataframe thead th {\n",
              "        text-align: right;\n",
              "    }\n",
              "</style>\n",
              "<table border=\"1\" class=\"dataframe\">\n",
              "  <thead>\n",
              "    <tr style=\"text-align: right;\">\n",
              "      <th></th>\n",
              "      <th>review</th>\n",
              "      <th>sentiment</th>\n",
              "    </tr>\n",
              "  </thead>\n",
              "  <tbody>\n",
              "    <tr>\n",
              "      <th>0</th>\n",
              "      <td>One of the other reviewers has mentioned that ...</td>\n",
              "      <td>positive</td>\n",
              "    </tr>\n",
              "    <tr>\n",
              "      <th>1</th>\n",
              "      <td>A wonderful little production. &lt;br /&gt;&lt;br /&gt;The...</td>\n",
              "      <td>positive</td>\n",
              "    </tr>\n",
              "    <tr>\n",
              "      <th>2</th>\n",
              "      <td>I thought this was a wonderful way to spend ti...</td>\n",
              "      <td>positive</td>\n",
              "    </tr>\n",
              "    <tr>\n",
              "      <th>3</th>\n",
              "      <td>Basically there's a family where a little boy ...</td>\n",
              "      <td>negative</td>\n",
              "    </tr>\n",
              "    <tr>\n",
              "      <th>4</th>\n",
              "      <td>Petter Mattei's \"Love in the Time of Money\" is...</td>\n",
              "      <td>positive</td>\n",
              "    </tr>\n",
              "  </tbody>\n",
              "</table>\n",
              "</div>\n",
              "      <button class=\"colab-df-convert\" onclick=\"convertToInteractive('df-1d0609e4-350b-4a0b-8c7c-11b4fda78a12')\"\n",
              "              title=\"Convert this dataframe to an interactive table.\"\n",
              "              style=\"display:none;\">\n",
              "\n",
              "  <svg xmlns=\"http://www.w3.org/2000/svg\" height=\"24px\"viewBox=\"0 0 24 24\"\n",
              "       width=\"24px\">\n",
              "    <path d=\"M0 0h24v24H0V0z\" fill=\"none\"/>\n",
              "    <path d=\"M18.56 5.44l.94 2.06.94-2.06 2.06-.94-2.06-.94-.94-2.06-.94 2.06-2.06.94zm-11 1L8.5 8.5l.94-2.06 2.06-.94-2.06-.94L8.5 2.5l-.94 2.06-2.06.94zm10 10l.94 2.06.94-2.06 2.06-.94-2.06-.94-.94-2.06-.94 2.06-2.06.94z\"/><path d=\"M17.41 7.96l-1.37-1.37c-.4-.4-.92-.59-1.43-.59-.52 0-1.04.2-1.43.59L10.3 9.45l-7.72 7.72c-.78.78-.78 2.05 0 2.83L4 21.41c.39.39.9.59 1.41.59.51 0 1.02-.2 1.41-.59l7.78-7.78 2.81-2.81c.8-.78.8-2.07 0-2.86zM5.41 20L4 18.59l7.72-7.72 1.47 1.35L5.41 20z\"/>\n",
              "  </svg>\n",
              "      </button>\n",
              "\n",
              "\n",
              "\n",
              "    <div id=\"df-336aaa0a-79bc-4edf-a550-7c7d285719d9\">\n",
              "      <button class=\"colab-df-quickchart\" onclick=\"quickchart('df-336aaa0a-79bc-4edf-a550-7c7d285719d9')\"\n",
              "              title=\"Suggest charts.\"\n",
              "              style=\"display:none;\">\n",
              "\n",
              "<svg xmlns=\"http://www.w3.org/2000/svg\" height=\"24px\"viewBox=\"0 0 24 24\"\n",
              "     width=\"24px\">\n",
              "    <g>\n",
              "        <path d=\"M19 3H5c-1.1 0-2 .9-2 2v14c0 1.1.9 2 2 2h14c1.1 0 2-.9 2-2V5c0-1.1-.9-2-2-2zM9 17H7v-7h2v7zm4 0h-2V7h2v10zm4 0h-2v-4h2v4z\"/>\n",
              "    </g>\n",
              "</svg>\n",
              "      </button>\n",
              "    </div>\n",
              "\n",
              "<style>\n",
              "  .colab-df-quickchart {\n",
              "    background-color: #E8F0FE;\n",
              "    border: none;\n",
              "    border-radius: 50%;\n",
              "    cursor: pointer;\n",
              "    display: none;\n",
              "    fill: #1967D2;\n",
              "    height: 32px;\n",
              "    padding: 0 0 0 0;\n",
              "    width: 32px;\n",
              "  }\n",
              "\n",
              "  .colab-df-quickchart:hover {\n",
              "    background-color: #E2EBFA;\n",
              "    box-shadow: 0px 1px 2px rgba(60, 64, 67, 0.3), 0px 1px 3px 1px rgba(60, 64, 67, 0.15);\n",
              "    fill: #174EA6;\n",
              "  }\n",
              "\n",
              "  [theme=dark] .colab-df-quickchart {\n",
              "    background-color: #3B4455;\n",
              "    fill: #D2E3FC;\n",
              "  }\n",
              "\n",
              "  [theme=dark] .colab-df-quickchart:hover {\n",
              "    background-color: #434B5C;\n",
              "    box-shadow: 0px 1px 3px 1px rgba(0, 0, 0, 0.15);\n",
              "    filter: drop-shadow(0px 1px 2px rgba(0, 0, 0, 0.3));\n",
              "    fill: #FFFFFF;\n",
              "  }\n",
              "</style>\n",
              "\n",
              "    <script>\n",
              "      async function quickchart(key) {\n",
              "        const containerElement = document.querySelector('#' + key);\n",
              "        const charts = await google.colab.kernel.invokeFunction(\n",
              "            'suggestCharts', [key], {});\n",
              "      }\n",
              "    </script>\n",
              "\n",
              "      <script>\n",
              "\n",
              "function displayQuickchartButton(domScope) {\n",
              "  let quickchartButtonEl =\n",
              "    domScope.querySelector('#df-336aaa0a-79bc-4edf-a550-7c7d285719d9 button.colab-df-quickchart');\n",
              "  quickchartButtonEl.style.display =\n",
              "    google.colab.kernel.accessAllowed ? 'block' : 'none';\n",
              "}\n",
              "\n",
              "        displayQuickchartButton(document);\n",
              "      </script>\n",
              "      <style>\n",
              "    .colab-df-container {\n",
              "      display:flex;\n",
              "      flex-wrap:wrap;\n",
              "      gap: 12px;\n",
              "    }\n",
              "\n",
              "    .colab-df-convert {\n",
              "      background-color: #E8F0FE;\n",
              "      border: none;\n",
              "      border-radius: 50%;\n",
              "      cursor: pointer;\n",
              "      display: none;\n",
              "      fill: #1967D2;\n",
              "      height: 32px;\n",
              "      padding: 0 0 0 0;\n",
              "      width: 32px;\n",
              "    }\n",
              "\n",
              "    .colab-df-convert:hover {\n",
              "      background-color: #E2EBFA;\n",
              "      box-shadow: 0px 1px 2px rgba(60, 64, 67, 0.3), 0px 1px 3px 1px rgba(60, 64, 67, 0.15);\n",
              "      fill: #174EA6;\n",
              "    }\n",
              "\n",
              "    [theme=dark] .colab-df-convert {\n",
              "      background-color: #3B4455;\n",
              "      fill: #D2E3FC;\n",
              "    }\n",
              "\n",
              "    [theme=dark] .colab-df-convert:hover {\n",
              "      background-color: #434B5C;\n",
              "      box-shadow: 0px 1px 3px 1px rgba(0, 0, 0, 0.15);\n",
              "      filter: drop-shadow(0px 1px 2px rgba(0, 0, 0, 0.3));\n",
              "      fill: #FFFFFF;\n",
              "    }\n",
              "  </style>\n",
              "\n",
              "      <script>\n",
              "        const buttonEl =\n",
              "          document.querySelector('#df-1d0609e4-350b-4a0b-8c7c-11b4fda78a12 button.colab-df-convert');\n",
              "        buttonEl.style.display =\n",
              "          google.colab.kernel.accessAllowed ? 'block' : 'none';\n",
              "\n",
              "        async function convertToInteractive(key) {\n",
              "          const element = document.querySelector('#df-1d0609e4-350b-4a0b-8c7c-11b4fda78a12');\n",
              "          const dataTable =\n",
              "            await google.colab.kernel.invokeFunction('convertToInteractive',\n",
              "                                                     [key], {});\n",
              "          if (!dataTable) return;\n",
              "\n",
              "          const docLinkHtml = 'Like what you see? Visit the ' +\n",
              "            '<a target=\"_blank\" href=https://colab.research.google.com/notebooks/data_table.ipynb>data table notebook</a>'\n",
              "            + ' to learn more about interactive tables.';\n",
              "          element.innerHTML = '';\n",
              "          dataTable['output_type'] = 'display_data';\n",
              "          await google.colab.output.renderOutput(dataTable, element);\n",
              "          const docLink = document.createElement('div');\n",
              "          docLink.innerHTML = docLinkHtml;\n",
              "          element.appendChild(docLink);\n",
              "        }\n",
              "      </script>\n",
              "    </div>\n",
              "  </div>\n"
            ]
          },
          "metadata": {},
          "execution_count": 4
        }
      ]
    },
    {
      "cell_type": "markdown",
      "metadata": {
        "id": "GbRrtTIYBrbM"
      },
      "source": [
        "## **Splitting the Dataset into Training and Testing Data**\n",
        "Complete the below cell that splits the loaded data into training and testing sets. The recommended train:test ratio is 80:20, but feel free to change this later and see how it affects the accuracy of the model. Note that the cell should store the training and testing reviews in `x_train` and `x_test` respectively, and their corresponding sentiments in `y_train` and `y_test` respectively.\n",
        "\n",
        "<details>\n",
        "  <summary>Hint</summary>\n",
        "  Check out the train_test_split function from sklearn.\n",
        "  Do not forget to shuffle the dataset!\n",
        "</details>"
      ]
    },
    {
      "cell_type": "code",
      "execution_count": null,
      "metadata": {
        "id": "2VAB-v2HBrbM",
        "colab": {
          "base_uri": "https://localhost:8080/"
        },
        "outputId": "2df1a4a4-ef21-4aa4-d58e-a21d55de2784"
      },
      "outputs": [
        {
          "output_type": "stream",
          "name": "stdout",
          "text": [
            "(40000,)\n",
            "(10000,)\n"
          ]
        }
      ],
      "source": [
        "train_df, test_df = train_test_split(df, test_size=0.2, random_state=42, shuffle=True)\n",
        "\n",
        "# <START>\n",
        "x_train = np.reshape(train_df.iloc[:,[0]].to_numpy(),40000)\n",
        "x_test =  np.reshape(test_df.iloc[:,[0]].to_numpy(),10000)\n",
        "y_train = np.reshape(train_df.iloc[:,[1]].to_numpy(),40000)\n",
        "y_test = np.reshape(test_df.iloc[:,[1]].to_numpy(),10000)\n",
        "# <END>\n",
        "\n",
        "print(x_train.shape)\n",
        "print(x_test.shape)"
      ]
    },
    {
      "cell_type": "markdown",
      "source": [
        "Before we proceed, let's make sure we have a well distributed training dataset by checking the number of positive and negative reviews it contains.\n",
        "\n",
        "If your values deviate too much from the optimal 50-50 ratio, it is recommended that you modify the above cell to shuffle the dataset differently."
      ],
      "metadata": {
        "id": "IOJcQL3EGVOX"
      }
    },
    {
      "cell_type": "code",
      "source": [
        "count_positive = 0\n",
        "count_negative = 0\n",
        "\n",
        "for i in y_train:\n",
        "  if i == \"positive\":\n",
        "    count_positive += 1\n",
        "  else:\n",
        "    count_negative += 1\n",
        "\n",
        "print(\"Positive reviews:\", count_positive/(count_positive + count_negative)*100, \"%\")\n",
        "print(\"Negative reviews:\", count_negative/(count_positive + count_negative)*100, \"%\")\n",
        "print(x_train)"
      ],
      "metadata": {
        "id": "UBm9-OJ5GiiX",
        "colab": {
          "base_uri": "https://localhost:8080/"
        },
        "outputId": "8aa0f55e-5ac1-4ab3-ea63-646b92b51a53"
      },
      "execution_count": null,
      "outputs": [
        {
          "output_type": "stream",
          "name": "stdout",
          "text": [
            "Positive reviews: 49.902499999999996 %\n",
            "Negative reviews: 50.0975 %\n",
            "['That\\'s what I kept asking myself during the many fights, screaming matches, swearing and general mayhem that permeate the 84 minutes. The comparisons also stand up when you think of the one-dimensional characters, who have so little depth that it is virtually impossible to care what happens to them. They are just badly written cyphers for the director to hang his multicultural beliefs on, a topic that has been done much better in other dramas both on TV and the cinema.<br /><br />I must confess, I\\'m not really one for spotting bad performances during a film, but it must be said that Nichola Burley (as the heroine\\'s slutty best friend) and Wasim Zakir (as the nasty, bullying brother) were absolutely terrible. I don\\'t know what acting school they graduated from, but if I was them I\\'d apply for a full refund post haste. Only Samina Awan in the lead role manages to impress in a cast of so-called British talent that we\\'ll probably never hear from again. At least, that\\'s the hope. Next time, hire a different scout.<br /><br />Another intriguing thought is the hideously fashionable soundtrack featuring the likes of Snow Patrol, Ian Brown and Keane. Now, I\\'m a bit of a music fan and I\\'m familiar with most of these artists output, but I didn\\'t recognise any of the tracks during this movie (apart from the omnipresent \"Run\"). B-sides, anyone? We get many, many musical montages which telegraph how we\\'re suppose to feel. These are accompanied by such startlingly original images as couples kissing by a swollen lake and canoodling in doorways. This is a problem, as none of the songs convey the mood efficiently, and we realise the director lacks the ability to carry the emotional journey to the audience through storytelling and dialogue alone.<br /><br />The ending is presumably meant to be just desserts, as everybody gets their comeuppance and there is at least one big shock in store.. But I remained resolutely unmoved because the script had given me no-one to root for. It\\'s not enough to tackle a hot-button issue, you have to actually give us a plot that hasn\\'t already been done to death and individuals who are more than window dressing. As it stands, this film is a noble failure, with only the promising lead actress and a few mildly diverting punch-ups to save it from the bin. 4/10. Must try harder..'\n",
            " \"I did not watch the entire movie. I could not watch the entire movie. I stopped the DVD after watching for half an hour and I suggest anyone thinking of watching themselves it stop themselves before taking the disc out of the case.<br /><br />I like Mafia movies both tragic and comic but Corky Romano can only be described as a tragic attempt at a mafia comedy.<br /><br />The problem is Corky Romano simply tries too hard to get the audience to laugh, the plot seems to be an excuse for moving Chris Kattan (Corky) from one scene to another. Corky himself is completely overplayed and lacks subtlety or credulity - all his strange mannerisms come across as contrived - Chris Kattan is clearly 'acting' rather than taking a role - it bounces you right out of the story. Each scene is utterly predictable, the 'comedic event' that will occur on the set is obvious as soon as each scene is introduced. In comedies such as Mr. Bean the disasters caused by the title character are funny because you can empathise with the characters motivations and initial event and the situation the character ends up in is not telegraphed. Corky however gives the feeling that he is deliberately screwing up in a desperate attempt to draw a laugh from the audience.<br /><br />If Chris had not played such an alien character (who never really connects with the other characters in the movie) and whose behaviour is entirely inexplicable (except for trying to draw laughs) and the comedy scenes weren't so predictable and stereotyped - all the jokes seemed far too familiar) this movie could have been watchable. But it isn't. Don't watch it.\"\n",
            " \"A touching love story reminiscent of \\x91In the Mood for Love'. Drawing heavily on Chinese poetry and how this is used by eastern people to communicate feelings to each other, the story focuses on a schoolteacher who wants so much to be a model teacher as well as a good husband and father. A senior student is very attracted to him. As the story unfolds we see the emotions below the surface in his 20 year marriage and how he grapples with the moral dilemmas that face him. A beautiful and moving story.\"\n",
            " ...\n",
            " \"Avoid this one! It is a terrible movie. So what if it is very exciting? All it is is just pointless murders. And the whole thing with Thorn and Michael's curse, that was the absolute worst thing they could possibly do to the series! Why couldn't they leave Michael's story a mystery? He's supposed to be the Boogeyman, not part of some stupid cult!! Ugh! Thank God for Halloween H20, which wiped out Halloween 3-6! They all sucked! But anyway, if you see this movie, please expect no more than pointless murders and gore.\"\n",
            " \"This production was quite a surprise for me. I absolutely love obscure early 30s movies, but I wasn't prepared for the last 25 minutes of this story. If, by any chance, you're not convinced in the first half, hang in there for the finale. Of course, you must look at the blatant racism as being purely topical. A fascinating viewing experience, but I think THE CAT'S PAW is not available on video/DVD yet. Watch your PBS listings!\"\n",
            " 'This is a decent movie. Although little bit short in time for me, it packs a lot of action, grit, commonsense and emotions in that time frame. Matt Dillon and the other main character does a great job in this movie. The emotions and intensity were convincing and tense throughout the movie. It is not typical fancy expensive Hollywood CGI action movie, but it was a very satisfying movie indeed for the price. My evening was great because of this movie. This movie is straight traditional action movie with great acting, story and directing. I would recommend this movie. The character development of the characters were good and makes you believe that were are actually seeing a real event taking place. Because this movie I believe was made with cheaper budget, the acting and quality were much higher.']\n"
          ]
        }
      ]
    },
    {
      "cell_type": "markdown",
      "metadata": {
        "id": "vbF4nskOBrbN"
      },
      "source": [
        "## **Preprocessing**\n",
        "As you saw in last week's assignment, preprocessing a very important step in NLP. Complete the below function to perform the following tasks. The function should take as input a set of reviews `x_train` or `x_test`, and return a list of preprocessed reviews.\n",
        "\n",
        "\n",
        "1.   Case the corpus to lower case\n",
        "2.   Remove punctuation\n",
        "3.   Lemmatize\n",
        "4.   Remove stop words\n",
        "\n",
        "Feel free to refer to last week's assignment for guidance.\n",
        "\n",
        "*Note that as the dataset is much larger this time, the cell may take a while to run.*"
      ]
    },
    {
      "cell_type": "code",
      "execution_count": null,
      "metadata": {
        "id": "TJn1Uqc4BrbO",
        "colab": {
          "base_uri": "https://localhost:8080/"
        },
        "outputId": "b922a35d-f172-4ff7-8527-eb262530887c"
      },
      "outputs": [
        {
          "output_type": "stream",
          "name": "stdout",
          "text": [
            "[['assignment'], ['notebook', 'run', 'cloud'], ['cloud', 'however', 'much', 'ground']]\n"
          ]
        }
      ],
      "source": [
        "#The list of stopwords has been coverted into a set, making it faster to check if a given word is in it\n",
        "stop_words = set(stopwords.words('english'))\n",
        "\n",
        "# Using the below tokenizer helps us get rid of punctuation,\n",
        "tokenizer = RegexpTokenizer(r'\\w+')\n",
        "# And the lemmatizer to convert words to simpler forms\n",
        "lemmatizer = WordNetLemmatizer()\n",
        "\n",
        "def preprocess(x_set):\n",
        "    result = []\n",
        "    for i in x_set:\n",
        "      # <START>\n",
        "      out = str(i).lower()\n",
        "      out = tokenizer.tokenize(out)\n",
        "      out = [j for j in out if j not in stop_words]\n",
        "      out = [lemmatizer.lemmatize(j) for j in out]\n",
        "\n",
        "\n",
        "      # <END>\n",
        "      result.append(out)\n",
        "    return result\n",
        "\n",
        "#Testing the function\n",
        "test_preprocess = preprocess([\"This is an assignment.\",'The notebook runs on the cloud.','The cloud, however, is very much on the ground,'])\n",
        "print(test_preprocess)\n",
        "#assert test_preprocess == [['assignment'], ['notebook', 'run', 'cloud'], ['cloud', 'however', 'much', 'ground']]\n",
        "\n",
        "x_train_preprocessed = preprocess(x_train)\n",
        "x_test_preprocessed = preprocess(x_test)"
      ]
    },
    {
      "cell_type": "markdown",
      "source": [
        "## **Building the Vocabulary**\n",
        "Complete the below function which takes as argument the preprocessed **training set** and returns a dictionary mapping each unique word to a unique ID. However this time, we shall begin with giving the first word an ID of `1`. The reason for this will become clear soon.\n",
        "\n",
        "Again, feel free to refer to last week's assignment."
      ],
      "metadata": {
        "id": "SNLwSHF4Lcqu"
      }
    },
    {
      "cell_type": "code",
      "source": [
        "def create_vocabulary(x_train_preprocessed):\n",
        "  '''Creates a dictionary with all unique words in corpus with id'''\n",
        "  vocabulary = {}\n",
        "  id = 1\n",
        "  # <START>\n",
        "  for s in x_train_preprocessed:\n",
        "    for j in s:\n",
        "      if j not in vocabulary:\n",
        "        vocabulary[j]=id\n",
        "        id+=1\n",
        "  # <END>\n",
        "  return vocabulary\n",
        "\n",
        "vocabulary = create_vocabulary(x_train_preprocessed)\n",
        "print(len(vocabulary))"
      ],
      "metadata": {
        "id": "FKRU-3xDOLpx",
        "colab": {
          "base_uri": "https://localhost:8080/"
        },
        "outputId": "e51c37dd-0f18-4fbd-abb7-c6a277efd189"
      },
      "execution_count": null,
      "outputs": [
        {
          "output_type": "stream",
          "name": "stdout",
          "text": [
            "83978\n"
          ]
        }
      ]
    },
    {
      "cell_type": "markdown",
      "source": [
        "## **Converting to Numerical Form**\n",
        "Since we need to convert our words into numerical input for the neural network to be able to process it, let's replace the words in our reviews with their corresponding IDs from the vocabulary (not their one-hot embeddings, just their IDs).\n",
        "\n",
        "Complete the below function that takes as input the set of reviews (`x_train_preprocessed` and `x_test_preprocessed`) and converts them to their numerical form.\n"
      ],
      "metadata": {
        "id": "oFsfs_POeMkk"
      }
    },
    {
      "cell_type": "code",
      "source": [
        "def convert_to_numerical(x_set):\n",
        "  converted = []\n",
        "    # <START>\n",
        "  count = 0\n",
        "  unk = 'unk'\n",
        "  vocabulary[unk] = len(vocabulary)\n",
        "  for x in x_set:\n",
        "    converted.append([])\n",
        "    for word in x:\n",
        "      if word in vocabulary:\n",
        "        converted[count].append(vocabulary[word])\n",
        "      else:\n",
        "        converted[count].append(vocabulary[unk])\n",
        "    count+=1\n",
        "    # <END>\n",
        "\n",
        "  return converted\n",
        "\n",
        "#Testing your function\n",
        "vocab_list = list(vocabulary.keys())\n",
        "print(convert_to_numerical([[vocab_list[47],vocab_list[186],vocab_list[4005]]]))\n",
        "assert convert_to_numerical([[vocab_list[47],vocab_list[186],vocab_list[4005]]]) == [[48, 187, 4006]]"
      ],
      "metadata": {
        "id": "zhjvZjcMhRHI",
        "colab": {
          "base_uri": "https://localhost:8080/"
        },
        "outputId": "647328ee-1d84-4eeb-f788-296e61b2c3f9"
      },
      "execution_count": null,
      "outputs": [
        {
          "output_type": "stream",
          "name": "stdout",
          "text": [
            "[[48, 187, 4006]]\n"
          ]
        }
      ]
    },
    {
      "cell_type": "code",
      "source": [
        "x_train_numerical = convert_to_numerical(x_train_preprocessed)\n",
        "x_test_numerical = convert_to_numerical(x_test_preprocessed)\n",
        "\n",
        "print(len(x_train_numerical))"
      ],
      "metadata": {
        "id": "hkXMWld3ehG9",
        "colab": {
          "base_uri": "https://localhost:8080/"
        },
        "outputId": "63e01783-1be5-45e4-a9a2-adcd6a0add95"
      },
      "execution_count": null,
      "outputs": [
        {
          "output_type": "stream",
          "name": "stdout",
          "text": [
            "40000\n"
          ]
        }
      ]
    },
    {
      "cell_type": "markdown",
      "source": [
        "Notice that our sentiment labels (`y_train` and `y_test`) currently contain the words `positive` and `negative`. Let's convert them to `1` and `0` respectively."
      ],
      "metadata": {
        "id": "bKjdEgl3ikYE"
      }
    },
    {
      "cell_type": "code",
      "source": [
        "def convert_labels(y_set):\n",
        "  converted=[]\n",
        "    # <START>\n",
        "  for i in y_set:\n",
        "    if(i == 'positive'):\n",
        "      converted.append(1)\n",
        "    else:\n",
        "      converted.append(0)\n",
        "    # <END>\n",
        "  return converted\n",
        "\n",
        "assert convert_labels(['positive','negative','positive','positive','negative']) == [1,0,1,1,0]\n",
        "\n",
        "y_train_numerical = convert_labels(y_train)\n",
        "y_test_numerical = convert_labels(y_test)\n",
        "\n",
        "print(len(y_train_numerical))"
      ],
      "metadata": {
        "id": "bkDKnbYHi4tm",
        "colab": {
          "base_uri": "https://localhost:8080/"
        },
        "outputId": "32f95499-c3e8-46c8-ca44-3c646abac541"
      },
      "execution_count": null,
      "outputs": [
        {
          "output_type": "stream",
          "name": "stdout",
          "text": [
            "40000\n"
          ]
        }
      ]
    },
    {
      "cell_type": "markdown",
      "source": [
        "## **Normalizing the Reviews' lengths**\n",
        "Since our reviews have variable lengths, we will employ a technique called **padding**.to normalize them.\n",
        "\n",
        "Run the below cell to analyze the present lengths of our reviews."
      ],
      "metadata": {
        "id": "k97nNtmeTXKn"
      }
    },
    {
      "cell_type": "code",
      "source": [
        "lengths = [len(i) for i in x_train_preprocessed]\n",
        "lengths_sum = sum(lengths)\n",
        "num_lengths = len(lengths)\n",
        "avg_length = lengths_sum/num_lengths\n",
        "max_length = max(lengths)\n",
        "\n",
        "print(\"Average length of reviews: \", avg_length)\n",
        "print(\"Length of the longest review: \", max_length)"
      ],
      "metadata": {
        "id": "lBpGv4w9T4AR",
        "colab": {
          "base_uri": "https://localhost:8080/"
        },
        "outputId": "ecfc24d8-3c7f-44f4-e487-b5921f032d3b"
      },
      "execution_count": null,
      "outputs": [
        {
          "output_type": "stream",
          "name": "stdout",
          "text": [
            "Average length of reviews:  123.540625\n",
            "Length of the longest review:  1455\n"
          ]
        }
      ]
    },
    {
      "cell_type": "markdown",
      "source": [
        "Padding all the reviews to the maximum length would preserve all our data, but at the same time it would be highly inefficient. Instead, let's settle on an intermediate value of 150 and pad all shorter reviews to 150. As for the longer ones, our model can probably perform sentiment analysis without the *entire* review, so we'll truncate them to 150 words.\n",
        "\n",
        "For this purpose, we shall use a ghost ID of `0` to represent the padding token. This is why we did not give this ID to the first word.\n",
        "\n",
        "Run the below cell to normalize the lengths as mentioned."
      ],
      "metadata": {
        "id": "bveQkxZOWnS8"
      }
    },
    {
      "cell_type": "code",
      "source": [
        "def normalize(x_set, max_length):\n",
        "    temp = np.zeros((len(x_set), max_length),dtype=int)\n",
        "    for i, sentence in enumerate(x_set):\n",
        "        if len(sentence) != 0:\n",
        "            temp[i, -len(sentence):] = np.array(sentence)[:max_length]\n",
        "    return temp\n",
        "\n",
        "max_length = 150\n",
        "\n",
        "x_train_normalized = normalize(x_train_numerical, max_length)\n",
        "x_test_normalized = normalize(x_test_numerical, max_length)"
      ],
      "metadata": {
        "id": "ouVh5UrnZKDT"
      },
      "execution_count": null,
      "outputs": []
    },
    {
      "cell_type": "markdown",
      "metadata": {
        "id": "5CEWbRjXBrbP"
      },
      "source": [
        "## **Converting the Data to Tensors**\n",
        "Now that we are done processing all the reviews, it's time to start building our sentiment analysis model. But first, we'll need to convert our training and testing data into a suitable form.\n",
        "\n",
        "This can be done using the `TensorDataset` class of PyTorch, which creates a dataset containing tensors for input features and labels.\n",
        "\n",
        "Since this class takes only NumPy ndarrays as parameters, we'll need to convert `y_train_numerical` and `y_test_numerical` into ndarrays."
      ]
    },
    {
      "cell_type": "code",
      "source": [
        "final_train_data = TensorDataset(torch.from_numpy(x_train_normalized), torch.tensor(y_train_numerical))\n",
        "final_test_data = TensorDataset(torch.from_numpy(x_test_normalized), torch.tensor(y_test_numerical))"
      ],
      "metadata": {
        "id": "qLVPF86FnW6Z"
      },
      "execution_count": null,
      "outputs": []
    },
    {
      "cell_type": "markdown",
      "source": [
        "## **Loading the Data in Batches**\n",
        "Since our dataset is quite large, loading it all at once won't be feasible. A much more efficient way of loading the dataset is to do it in **batches**. This can be done using PyTorch's DataLoader constructor.\n",
        "\n",
        "The below cell creates `train_batch_loader` and `test_batch_loader`, using the variable `batch_size`.\n",
        "\n",
        "<details>\n",
        "  <summary>Note</summary>\n",
        "The shuffle = True parameter is important, omitting it would defeat the purpose of batching!</details>"
      ],
      "metadata": {
        "id": "pjG46lSurNmF"
      }
    },
    {
      "cell_type": "code",
      "execution_count": null,
      "metadata": {
        "id": "ITFt2pVBBrbP"
      },
      "outputs": [],
      "source": [
        "batch_size = 64\n",
        "\n",
        "train_batch_loader = DataLoader(final_train_data, shuffle=True, batch_size=batch_size)\n",
        "test_batch_loader = DataLoader(final_test_data, shuffle=True, batch_size=batch_size)"
      ]
    },
    {
      "cell_type": "markdown",
      "source": [
        "Run the following cell to visualize an input-labels pair from a batch of\n",
        "\n",
        "*   List item\n",
        "*   List item\n",
        "\n",
        "the training data. Observe that the size of any set of input features is $[\\textrm{number of batches}, \\textrm{maximum (normalized) length of review}]$."
      ],
      "metadata": {
        "id": "jdaNXixrs_ov"
      }
    },
    {
      "cell_type": "code",
      "execution_count": null,
      "metadata": {
        "id": "0sGdzClJBrbP",
        "colab": {
          "base_uri": "https://localhost:8080/"
        },
        "outputId": "3034838f-0ab9-4a21-a3f6-d6e843bac08c"
      },
      "outputs": [
        {
          "output_type": "stream",
          "name": "stdout",
          "text": [
            "Input size: torch.Size([64, 150])\n",
            "Input feature: \n",
            " tensor([[    0,     0,     0,  ...,   129,  3527,    17],\n",
            "        [    0,     0,     0,  ..., 20089,  1227,  2864],\n",
            "        [    0,     0,     0,  ..., 33854,   494,   743],\n",
            "        ...,\n",
            "        [    0,     0,     0,  ..., 10650,   194,   112],\n",
            "        [    0,     0,     0,  ...,   399,    17,   703],\n",
            "        [    0,     0,     0,  ...,   438,   372,  4500]])\n",
            "Label: \n",
            " tensor([1, 0, 1, 1, 0, 0, 0, 1, 0, 0, 1, 0, 1, 0, 0, 0, 0, 0, 0, 1, 0, 0, 1, 0,\n",
            "        1, 0, 1, 1, 1, 1, 0, 1, 1, 1, 1, 1, 0, 0, 1, 0, 1, 1, 1, 0, 0, 1, 1, 1,\n",
            "        1, 1, 0, 0, 0, 0, 1, 1, 1, 1, 0, 1, 0, 0, 1, 1])\n"
          ]
        }
      ],
      "source": [
        "sample_batch = train_batch_loader\n",
        "for x, y in sample_batch:\n",
        "  print(\"Input size:\", x.size())\n",
        "  print(\"Input feature: \\n\", x)\n",
        "  print(\"Label: \\n\", y)\n",
        "  break\n"
      ]
    },
    {
      "cell_type": "markdown",
      "metadata": {
        "id": "YlOP0HiBBrbP"
      },
      "source": [
        "## **Building the Model**\n",
        "Complete the below cell to build the RNN model. This time, we will be using **Python classes** to define the model. The class will inherit from `torch.nn.Module`, which is PyTorch's base class for all neural network modules.\n",
        "\n",
        "This time, the model will have 5 parts:\n",
        "- An **Embedding** layer that converts the IDs of all the words in the vocabulary, and converts them to embedding vectors of a defined size  \n",
        "Note that this is basically doing the job of the emdedding model from last time\n",
        "- The **LSTM layer(s)** that will sequentially run through the data.  \n",
        "PyTorch allows you to define multiple continuous LSTM layers with a simpler syntax than having to individually define each one\n",
        "- The **Dropout** layer. This makes sure our model doesn't overfit the training data. With a predefined probability, it excludes certain nodes from the architecture in each training run.\n",
        "- The **Linear** layer. This takes the predicted tokens and converts them into a single prediction on whether or not the sentiment is positive or negative.\n",
        "- Of course, the part of making the predicition a probability is done by the **Sigmoid** layer\n",
        "\n",
        "The forward function has already been written for you. You are to now define these layers in the RNN object.\n",
        "\n",
        "For the LSTM layer, note that the current assignment implements a *batch first* approach."
      ]
    },
    {
      "cell_type": "code",
      "execution_count": null,
      "metadata": {
        "id": "xa8yqaeDBrbP"
      },
      "outputs": [],
      "source": [
        "class RNN_SA(nn.Module):\n",
        "\n",
        "    # CLASS CONSTRUCTOR\n",
        "    def __init__(self, num_layers, hidden_layer_size, embedding_layer_size, output_layer_size, vocabulary_size, dropout_probability=0.5):\n",
        "        super(RNN_SA,self).__init__()\n",
        "\n",
        "        # Initialize the class variables with the values provided as arguments\n",
        "        self.output_layer_size = output_layer_size\n",
        "        self.hidden_dim = hidden_layer_size\n",
        "        self.num_layers = num_layers\n",
        "        self.vocabulary_size = vocabulary_size\n",
        "\n",
        "        # <START>\n",
        "        # Define the embedding layer\n",
        "        self.embedding = nn.Embedding(vocabulary_size,embedding_layer_size)\n",
        "\n",
        "        # Define the LSTM unit\n",
        "        self.lstm = nn.LSTM(embedding_layer_size,hidden_layer_size,num_layers,batch_first = True)\n",
        "\n",
        "        # Define the Dropout layer\n",
        "        self.dropout_layer = nn.Dropout(dropout_probability,inplace = False)\n",
        "\n",
        "        # Define the linear hidden layer and output sigmoid layer\n",
        "        self.linear_layer = nn.Linear(hidden_layer_size,output_layer_size,bias = True)\n",
        "        self.sigmoid_layer = nn.Sigmoid()\n",
        "        # <END>\n",
        "\n",
        "    def forward(self, x):\n",
        "        batch_size = x.size(0)\n",
        "        embeds = self.embedding(x)\n",
        "        lstm_out,_ = self.lstm(embeds)\n",
        "        lstm_out = lstm_out.contiguous().view(-1, self.hidden_dim)\n",
        "        out = self.dropout_layer(lstm_out)\n",
        "        out = self.linear_layer(out)\n",
        "        sig_out = self.sigmoid_layer(out)\n",
        "        sig_out = sig_out.view(batch_size, -1)\n",
        "        sig_out = sig_out[:, -1]\n",
        "        return sig_out"
      ]
    },
    {
      "cell_type": "markdown",
      "source": [
        "Run the below cell to create a model using the class you just defined.\n",
        "\n",
        "<details>\n",
        "  <summary>Why is vocabulary_size = len(vocabulary) + 1?</summary>\n",
        "  The extra 1 is because of the ghost ID 0 we added for padding\n",
        "</details>"
      ],
      "metadata": {
        "id": "b6Evd1FaS857"
      }
    },
    {
      "cell_type": "code",
      "execution_count": null,
      "metadata": {
        "id": "9R_KCEx7BrbQ",
        "colab": {
          "base_uri": "https://localhost:8080/"
        },
        "outputId": "c49132f9-a5fe-409f-a968-0573cf3c736f"
      },
      "outputs": [
        {
          "output_type": "stream",
          "name": "stdout",
          "text": [
            "RNN_SA(\n",
            "  (embedding): Embedding(83980, 64)\n",
            "  (lstm): LSTM(64, 256, num_layers=2, batch_first=True)\n",
            "  (dropout_layer): Dropout(p=0.3, inplace=False)\n",
            "  (linear_layer): Linear(in_features=256, out_features=1, bias=True)\n",
            "  (sigmoid_layer): Sigmoid()\n",
            ")\n"
          ]
        }
      ],
      "source": [
        "num_layers = 2\n",
        "vocabulary_size = len(vocabulary) + 1\n",
        "embedding_layer_size = 64\n",
        "output_layer_size = 1\n",
        "hidden_layer_size = 256\n",
        "\n",
        "\n",
        "model = RNN_SA(num_layers, hidden_layer_size, embedding_layer_size, output_layer_size, vocabulary_size, dropout_probability=0.3)\n",
        "\n",
        "print(model)"
      ]
    },
    {
      "cell_type": "markdown",
      "source": [
        "Expected:\n",
        "```console\n",
        "RNN_SA(\n",
        "  (embedding): Embedding(VOCAB_SIZE, 64)\n",
        "  (lstm): LSTM(64, 256, num_layers=2, batch_first=True)\n",
        "  (dropout_layer): Dropout(p=0.3, inplace=False)\n",
        "  (linear_layer): Linear(in_features=256, out_features=1, bias=True)\n",
        "  (sigmoid_layer): Sigmoid()\n",
        ")\n",
        "```"
      ],
      "metadata": {
        "id": "D2RgepLVT1mg"
      }
    },
    {
      "cell_type": "markdown",
      "source": [
        "On the off-chance that your notebook ever died mid-training, in the training section we've implemented a saving mechanism that saves your model to your Drive if it improves from the previous epoch.\n",
        "\n",
        "Just set the aptly names variable to `True` and run this cell. Remember to set it back to `False` afterwards."
      ],
      "metadata": {
        "id": "-MA_HOXOYCHy"
      }
    },
    {
      "cell_type": "code",
      "source": [
        "MY_NOTEBOOK_DIED_MID_TRAINING = False\n",
        "\n",
        "if MY_NOTEBOOK_DIED_MID_TRAINING:\n",
        "  model = torch.load('/content/drive/MyDrive/state_dict.pt')"
      ],
      "metadata": {
        "id": "6k0rFhpcS7JD"
      },
      "execution_count": null,
      "outputs": []
    },
    {
      "cell_type": "markdown",
      "metadata": {
        "id": "aVdOn9zDBrbQ"
      },
      "source": [
        "## **Training the Model**\n",
        "Now that we have our model, let's begin training it on our training data. The hyperparameters have been defined for you. You might notice that the number of epochs is quite low; this is because each epoch takes a pretty long time to run and a model trained with even 5 epochs would take over an hour to finish training.\n",
        "\n",
        "Since our model is a binary classifier trained to predict 0 and 1, we can use Binary Cross Entropy loss to measure the loss.\n",
        "\n",
        "Unlike in the first week's assignment, you will not need to explicitly update the parameters after each run of gradient descent, we have imported an optimizer that takes care of this.\n",
        "\n",
        "We have also given you a function `accuracy`, that takes as arguments the predictions generated by the model and the corresponding true values, and returns the accuracy.\n"
      ]
    },
    {
      "cell_type": "markdown",
      "source": [
        "\n",
        "Your task is to complete the rest of the cell and train the model.\n",
        "\n",
        "**Again, each epoch could take upto 15 minutes to run, so please be patient!**\n",
        "\n",
        "If your notebook ever dies mid-training, go to the cell below this one.\n",
        "<details>\n",
        "  <summary>What do model.train() and model.epoch do?</summary>\n",
        "  Checkout https://stackoverflow.com/questions/60018578/what-does-model-eval-do-in-pytorch\n",
        "</details>"
      ],
      "metadata": {
        "id": "waP6OQiNZYNt"
      }
    },
    {
      "cell_type": "code",
      "execution_count": null,
      "metadata": {
        "id": "Z49izPtgBrbQ",
        "colab": {
          "base_uri": "https://localhost:8080/"
        },
        "outputId": "6c191cc8-f28a-4d32-da4b-b007f0da381a"
      },
      "outputs": [
        {
          "output_type": "stream",
          "name": "stderr",
          "text": [
            "\n",
            "Training:   0%|          | 0/625 [02:59<?, ?it/s]\n",
            "\n",
            "Training:   0%|          | 1/625 [00:01<20:46,  2.00s/it]\u001b[A\n",
            "Training:   0%|          | 2/625 [00:03<19:31,  1.88s/it]\u001b[A\n",
            "Training:   0%|          | 3/625 [00:06<22:06,  2.13s/it]\u001b[A\n",
            "Training:   1%|          | 4/625 [00:09<24:50,  2.40s/it]\u001b[A\n",
            "Training:   1%|          | 5/625 [00:11<23:38,  2.29s/it]\u001b[A\n",
            "Training:   1%|          | 6/625 [00:13<22:28,  2.18s/it]\u001b[A\n",
            "Training:   1%|          | 7/625 [00:15<21:37,  2.10s/it]\u001b[A\n",
            "Training:   1%|▏         | 8/625 [00:16<20:49,  2.03s/it]\u001b[A\n",
            "Training:   1%|▏         | 9/625 [00:18<19:55,  1.94s/it]\u001b[A\n",
            "Training:   2%|▏         | 10/625 [00:21<21:29,  2.10s/it]\u001b[A\n",
            "Training:   2%|▏         | 11/625 [00:23<23:09,  2.26s/it]\u001b[A\n",
            "Training:   2%|▏         | 12/625 [00:25<21:24,  2.10s/it]\u001b[A\n",
            "Training:   2%|▏         | 13/625 [00:27<19:52,  1.95s/it]\u001b[A\n",
            "Training:   2%|▏         | 14/625 [00:28<18:48,  1.85s/it]\u001b[A\n",
            "Training:   2%|▏         | 15/625 [00:30<18:10,  1.79s/it]\u001b[A\n",
            "Training:   3%|▎         | 16/625 [00:31<17:40,  1.74s/it]\u001b[A\n",
            "Training:   3%|▎         | 17/625 [00:33<17:20,  1.71s/it]\u001b[A\n",
            "Training:   3%|▎         | 18/625 [00:35<19:17,  1.91s/it]\u001b[A\n",
            "Training:   3%|▎         | 19/625 [00:38<21:07,  2.09s/it]\u001b[A\n",
            "Training:   3%|▎         | 20/625 [00:40<19:41,  1.95s/it]\u001b[A\n",
            "Training:   3%|▎         | 21/625 [00:41<18:55,  1.88s/it]\u001b[A\n",
            "Training:   4%|▎         | 22/625 [00:43<18:03,  1.80s/it]\u001b[A\n",
            "Training:   4%|▎         | 23/625 [00:45<17:32,  1.75s/it]\u001b[A\n",
            "Training:   4%|▍         | 24/625 [00:46<17:15,  1.72s/it]\u001b[A\n",
            "Training:   4%|▍         | 25/625 [00:48<17:09,  1.72s/it]\u001b[A\n",
            "Training:   4%|▍         | 26/625 [00:50<19:05,  1.91s/it]\u001b[A\n",
            "Training:   4%|▍         | 27/625 [00:53<20:44,  2.08s/it]\u001b[A\n",
            "Training:   4%|▍         | 28/625 [00:54<19:36,  1.97s/it]\u001b[A\n",
            "Training:   5%|▍         | 29/625 [00:56<19:04,  1.92s/it]\u001b[A\n",
            "Training:   5%|▍         | 30/625 [00:58<18:38,  1.88s/it]\u001b[A\n",
            "Training:   5%|▍         | 31/625 [01:00<17:51,  1.80s/it]\u001b[A\n",
            "Training:   5%|▌         | 32/625 [01:01<17:15,  1.75s/it]\u001b[A\n",
            "Training:   5%|▌         | 33/625 [01:03<16:53,  1.71s/it]\u001b[A\n",
            "Training:   5%|▌         | 34/625 [01:06<20:17,  2.06s/it]\u001b[A\n",
            "Training:   6%|▌         | 35/625 [01:09<23:53,  2.43s/it]\u001b[A\n",
            "Training:   6%|▌         | 36/625 [01:12<26:32,  2.70s/it]\u001b[A\n",
            "Training:   6%|▌         | 37/625 [01:16<29:02,  2.96s/it]\u001b[A\n",
            "Training:   6%|▌         | 38/625 [01:20<33:17,  3.40s/it]\u001b[A\n",
            "Training:   6%|▌         | 39/625 [01:25<35:53,  3.67s/it]\u001b[A\n",
            "Training:   6%|▋         | 40/625 [01:29<36:43,  3.77s/it]\u001b[A\n",
            "Training:   7%|▋         | 41/625 [01:33<38:36,  3.97s/it]\u001b[A\n",
            "Training:   7%|▋         | 42/625 [01:38<40:54,  4.21s/it]\u001b[A\n",
            "Training:   7%|▋         | 43/625 [01:42<40:28,  4.17s/it]\u001b[A\n",
            "Training:   7%|▋         | 44/625 [01:46<39:22,  4.07s/it]\u001b[A\n",
            "Training:   7%|▋         | 45/625 [01:51<41:07,  4.25s/it]\u001b[A\n",
            "Training:   7%|▋         | 46/625 [01:54<37:48,  3.92s/it]\u001b[A\n",
            "Training:   8%|▊         | 47/625 [01:56<34:21,  3.57s/it]\u001b[A\n",
            "Training:   8%|▊         | 48/625 [01:59<30:24,  3.16s/it]\u001b[A\n",
            "Training:   8%|▊         | 49/625 [02:00<26:20,  2.74s/it]\u001b[A\n",
            "Training:   8%|▊         | 50/625 [02:03<25:39,  2.68s/it]\u001b[A\n",
            "Training:   8%|▊         | 51/625 [02:05<25:09,  2.63s/it]\u001b[A\n",
            "Training:   8%|▊         | 52/625 [02:07<22:27,  2.35s/it]\u001b[A\n",
            "Training:   8%|▊         | 53/625 [02:09<20:29,  2.15s/it]\u001b[A\n",
            "Training:   9%|▊         | 54/625 [02:11<19:04,  2.00s/it]\u001b[A\n",
            "Training:   9%|▉         | 55/625 [02:12<18:14,  1.92s/it]\u001b[A\n",
            "Training:   9%|▉         | 56/625 [02:14<17:37,  1.86s/it]\u001b[A\n",
            "Training:   9%|▉         | 57/625 [02:16<17:34,  1.86s/it]\u001b[A\n",
            "Training:   9%|▉         | 58/625 [02:18<19:15,  2.04s/it]\u001b[A\n",
            "Training:   9%|▉         | 59/625 [02:21<19:58,  2.12s/it]\u001b[A\n",
            "Training:  10%|▉         | 60/625 [02:22<18:44,  1.99s/it]\u001b[A\n",
            "Training:  10%|▉         | 61/625 [02:24<17:43,  1.89s/it]\u001b[A\n",
            "Training:  10%|▉         | 62/625 [02:26<17:05,  1.82s/it]\u001b[A\n",
            "Training:  10%|█         | 63/625 [02:27<16:36,  1.77s/it]\u001b[A\n",
            "Training:  10%|█         | 64/625 [02:29<16:19,  1.75s/it]\u001b[A\n",
            "Training:  10%|█         | 65/625 [02:31<16:46,  1.80s/it]\u001b[A\n",
            "Training:  11%|█         | 66/625 [02:33<18:39,  2.00s/it]\u001b[A\n",
            "Training:  11%|█         | 67/625 [02:36<20:17,  2.18s/it]\u001b[A\n",
            "Training:  11%|█         | 68/625 [02:38<20:47,  2.24s/it]\u001b[A\n",
            "Training:  11%|█         | 69/625 [02:41<21:14,  2.29s/it]\u001b[A\n",
            "Training:  11%|█         | 70/625 [02:48<35:22,  3.83s/it]\u001b[A\n",
            "Training:  11%|█▏        | 71/625 [02:56<46:21,  5.02s/it]\u001b[A\n",
            "Training:  12%|█▏        | 72/625 [03:06<59:10,  6.42s/it]\u001b[A\n",
            "Training:  12%|█▏        | 73/625 [03:14<1:04:42,  7.03s/it]\u001b[A\n",
            "Training:  12%|█▏        | 74/625 [03:23<1:10:33,  7.68s/it]\u001b[A\n",
            "Training:  12%|█▏        | 75/625 [03:32<1:14:12,  8.09s/it]\u001b[A\n",
            "Training:  12%|█▏        | 76/625 [03:41<1:14:20,  8.12s/it]\u001b[A\n",
            "Training:  12%|█▏        | 77/625 [03:49<1:15:53,  8.31s/it]\u001b[A\n",
            "Training:  12%|█▏        | 78/625 [03:58<1:16:38,  8.41s/it]\u001b[A\n",
            "Training:  13%|█▎        | 79/625 [04:06<1:16:00,  8.35s/it]\u001b[A\n",
            "Training:  13%|█▎        | 80/625 [04:14<1:15:08,  8.27s/it]\u001b[A\n",
            "Training:  13%|█▎        | 81/625 [04:22<1:14:05,  8.17s/it]\u001b[A\n",
            "Training:  13%|█▎        | 82/625 [04:30<1:14:09,  8.20s/it]\u001b[A\n",
            "Training:  13%|█▎        | 83/625 [04:38<1:12:04,  7.98s/it]\u001b[A\n",
            "Training:  13%|█▎        | 84/625 [04:45<1:10:54,  7.86s/it]\u001b[A\n",
            "Training:  14%|█▎        | 85/625 [04:51<1:04:31,  7.17s/it]\u001b[A\n",
            "Training:  14%|█▍        | 86/625 [04:56<57:24,  6.39s/it]  \u001b[A\n",
            "Training:  14%|█▍        | 87/625 [04:58<47:09,  5.26s/it]\u001b[A\n",
            "Training:  14%|█▍        | 88/625 [05:00<37:49,  4.23s/it]\u001b[A\n",
            "Training:  14%|█▍        | 89/625 [05:02<31:02,  3.47s/it]\u001b[A\n",
            "Training:  14%|█▍        | 90/625 [05:03<26:24,  2.96s/it]\u001b[A\n",
            "Training:  15%|█▍        | 91/625 [05:05<22:59,  2.58s/it]\u001b[A\n",
            "Training:  15%|█▍        | 92/625 [05:07<21:58,  2.47s/it]\u001b[A\n",
            "Training:  15%|█▍        | 93/625 [05:10<22:19,  2.52s/it]\u001b[A\n",
            "Training:  15%|█▌        | 94/625 [05:12<21:44,  2.46s/it]\u001b[A\n",
            "Training:  15%|█▌        | 95/625 [05:15<22:35,  2.56s/it]\u001b[A\n",
            "Training:  15%|█▌        | 96/625 [05:19<25:31,  2.89s/it]\u001b[A\n",
            "Training:  16%|█▌        | 97/625 [05:22<26:43,  3.04s/it]\u001b[A\n",
            "Training:  16%|█▌        | 98/625 [05:25<26:32,  3.02s/it]\u001b[A\n",
            "Training:  16%|█▌        | 99/625 [05:27<23:44,  2.71s/it]\u001b[A\n",
            "Training:  16%|█▌        | 100/625 [05:30<23:31,  2.69s/it]\u001b[A\n",
            "Training:  16%|█▌        | 101/625 [05:33<25:22,  2.91s/it]\u001b[A\n",
            "Training:  16%|█▋        | 102/625 [05:39<32:48,  3.76s/it]\u001b[A\n",
            "Training:  16%|█▋        | 103/625 [05:44<36:17,  4.17s/it]\u001b[A\n",
            "Training:  17%|█▋        | 104/625 [05:49<38:38,  4.45s/it]\u001b[A\n",
            "Training:  17%|█▋        | 105/625 [05:55<42:44,  4.93s/it]\u001b[A\n",
            "Training:  17%|█▋        | 106/625 [06:00<42:05,  4.87s/it]\u001b[A\n",
            "Training:  17%|█▋        | 107/625 [06:04<40:06,  4.65s/it]\u001b[A\n",
            "Training:  17%|█▋        | 108/625 [06:08<37:59,  4.41s/it]\u001b[A\n",
            "Training:  17%|█▋        | 109/625 [06:11<33:06,  3.85s/it]\u001b[A\n",
            "Training:  18%|█▊        | 110/625 [06:13<28:29,  3.32s/it]\u001b[A\n",
            "Training:  18%|█▊        | 111/625 [06:15<25:34,  2.99s/it]\u001b[A\n",
            "Training:  18%|█▊        | 112/625 [06:17<23:58,  2.80s/it]\u001b[A\n",
            "Training:  18%|█▊        | 113/625 [06:20<23:41,  2.78s/it]\u001b[A\n",
            "Training:  18%|█▊        | 114/625 [06:22<23:03,  2.71s/it]\u001b[A\n",
            "Training:  18%|█▊        | 115/625 [06:25<22:44,  2.68s/it]\u001b[A\n",
            "Training:  19%|█▊        | 116/625 [06:27<20:25,  2.41s/it]\u001b[A\n",
            "Training:  19%|█▊        | 117/625 [06:28<18:23,  2.17s/it]\u001b[A\n",
            "Training:  19%|█▉        | 118/625 [06:30<16:54,  2.00s/it]\u001b[A\n",
            "Training:  19%|█▉        | 119/625 [06:32<15:55,  1.89s/it]\u001b[A\n",
            "Training:  19%|█▉        | 120/625 [06:33<15:21,  1.83s/it]\u001b[A\n",
            "Training:  19%|█▉        | 121/625 [06:35<14:57,  1.78s/it]\u001b[A\n",
            "Training:  20%|█▉        | 122/625 [06:37<16:20,  1.95s/it]\u001b[A\n",
            "Training:  20%|█▉        | 123/625 [06:40<17:49,  2.13s/it]\u001b[A\n",
            "Training:  20%|█▉        | 124/625 [06:42<16:50,  2.02s/it]\u001b[A\n",
            "Training:  20%|██        | 125/625 [06:43<15:55,  1.91s/it]\u001b[A\n",
            "Training:  20%|██        | 126/625 [06:45<15:15,  1.84s/it]\u001b[A\n",
            "Training:  20%|██        | 127/625 [06:47<14:43,  1.77s/it]\u001b[A\n",
            "Training:  20%|██        | 128/625 [06:48<14:20,  1.73s/it]\u001b[A\n",
            "Training:  21%|██        | 129/625 [06:50<14:14,  1.72s/it]\u001b[A\n",
            "Training:  21%|██        | 130/625 [06:52<15:45,  1.91s/it]\u001b[A\n",
            "Training:  21%|██        | 131/625 [06:55<17:11,  2.09s/it]\u001b[A\n",
            "Training:  21%|██        | 132/625 [06:57<16:14,  1.98s/it]\u001b[A\n",
            "Training:  21%|██▏       | 133/625 [06:58<15:19,  1.87s/it]\u001b[A\n",
            "Training:  21%|██▏       | 134/625 [07:00<14:40,  1.79s/it]\u001b[A\n",
            "Training:  22%|██▏       | 135/625 [07:01<14:23,  1.76s/it]\u001b[A\n",
            "Training:  22%|██▏       | 136/625 [07:03<13:55,  1.71s/it]\u001b[A\n",
            "Training:  22%|██▏       | 137/625 [07:05<13:54,  1.71s/it]\u001b[A\n",
            "Training:  22%|██▏       | 138/625 [07:07<15:31,  1.91s/it]\u001b[A\n",
            "Training:  22%|██▏       | 139/625 [07:10<16:48,  2.07s/it]\u001b[A\n",
            "Training:  22%|██▏       | 140/625 [07:11<15:58,  1.98s/it]\u001b[A\n",
            "Training:  23%|██▎       | 141/625 [07:13<15:15,  1.89s/it]\u001b[A\n",
            "Training:  23%|██▎       | 142/625 [07:15<14:38,  1.82s/it]\u001b[A\n",
            "Training:  23%|██▎       | 143/625 [07:16<14:14,  1.77s/it]\u001b[A\n",
            "Training:  23%|██▎       | 144/625 [07:18<13:43,  1.71s/it]\u001b[A\n",
            "Training:  23%|██▎       | 145/625 [07:20<13:25,  1.68s/it]\u001b[A\n",
            "Training:  23%|██▎       | 146/625 [07:22<15:05,  1.89s/it]\u001b[A\n",
            "Training:  24%|██▎       | 147/625 [07:24<16:26,  2.06s/it]\u001b[A\n",
            "Training:  24%|██▎       | 148/625 [07:26<15:44,  1.98s/it]\u001b[A\n",
            "Training:  24%|██▍       | 149/625 [07:28<15:13,  1.92s/it]\u001b[A\n",
            "Training:  24%|██▍       | 150/625 [07:30<14:24,  1.82s/it]\u001b[A\n",
            "Training:  24%|██▍       | 151/625 [07:31<14:04,  1.78s/it]\u001b[A\n",
            "Training:  24%|██▍       | 152/625 [07:33<13:28,  1.71s/it]\u001b[A\n",
            "Training:  24%|██▍       | 153/625 [07:34<13:14,  1.68s/it]\u001b[A\n",
            "Training:  25%|██▍       | 154/625 [07:37<14:58,  1.91s/it]\u001b[A\n",
            "Training:  25%|██▍       | 155/625 [07:39<16:11,  2.07s/it]\u001b[A\n",
            "Training:  25%|██▍       | 156/625 [07:41<15:07,  1.94s/it]\u001b[A\n",
            "Training:  25%|██▌       | 157/625 [07:43<15:20,  1.97s/it]\u001b[A\n",
            "Training:  25%|██▌       | 158/625 [07:45<14:30,  1.86s/it]\u001b[A\n",
            "Training:  25%|██▌       | 159/625 [07:46<13:58,  1.80s/it]\u001b[A\n",
            "Training:  26%|██▌       | 160/625 [07:48<13:38,  1.76s/it]\u001b[A\n",
            "Training:  26%|██▌       | 161/625 [07:50<13:28,  1.74s/it]\u001b[A\n",
            "Training:  26%|██▌       | 162/625 [07:52<15:20,  1.99s/it]\u001b[A\n",
            "Training:  26%|██▌       | 163/625 [07:54<16:12,  2.10s/it]\u001b[A\n",
            "Training:  26%|██▌       | 164/625 [07:56<15:10,  1.98s/it]\u001b[A\n",
            "Training:  26%|██▋       | 165/625 [07:58<14:18,  1.87s/it]\u001b[A\n",
            "Training:  27%|██▋       | 166/625 [07:59<13:44,  1.80s/it]\u001b[A\n",
            "Training:  27%|██▋       | 167/625 [08:01<13:22,  1.75s/it]\u001b[A\n",
            "Training:  27%|██▋       | 168/625 [08:03<13:00,  1.71s/it]\u001b[A\n",
            "Training:  27%|██▋       | 169/625 [08:04<12:54,  1.70s/it]\u001b[A\n",
            "Training:  27%|██▋       | 170/625 [08:07<14:40,  1.94s/it]\u001b[A\n",
            "Training:  27%|██▋       | 171/625 [08:09<15:45,  2.08s/it]\u001b[A\n",
            "Training:  28%|██▊       | 172/625 [08:11<14:47,  1.96s/it]\u001b[A\n",
            "Training:  28%|██▊       | 173/625 [08:13<13:54,  1.85s/it]\u001b[A\n",
            "Training:  28%|██▊       | 174/625 [08:14<13:26,  1.79s/it]\u001b[A\n",
            "Training:  28%|██▊       | 175/625 [08:16<12:55,  1.72s/it]\u001b[A\n",
            "Training:  28%|██▊       | 176/625 [08:17<12:30,  1.67s/it]\u001b[A\n",
            "Training:  28%|██▊       | 177/625 [08:19<12:27,  1.67s/it]\u001b[A\n",
            "Training:  28%|██▊       | 178/625 [08:21<14:10,  1.90s/it]\u001b[A\n",
            "Training:  29%|██▊       | 179/625 [08:24<15:21,  2.07s/it]\u001b[A\n",
            "Training:  29%|██▉       | 180/625 [08:26<14:26,  1.95s/it]\u001b[A\n",
            "Training:  29%|██▉       | 181/625 [08:27<13:47,  1.86s/it]\u001b[A\n",
            "Training:  29%|██▉       | 182/625 [08:29<13:16,  1.80s/it]\u001b[A\n",
            "Training:  29%|██▉       | 183/625 [08:31<12:59,  1.76s/it]\u001b[A\n",
            "Training:  29%|██▉       | 184/625 [08:32<12:44,  1.73s/it]\u001b[A\n",
            "Training:  30%|██▉       | 185/625 [08:34<12:27,  1.70s/it]\u001b[A\n",
            "Training:  30%|██▉       | 186/625 [08:36<14:12,  1.94s/it]\u001b[A\n",
            "Training:  30%|██▉       | 187/625 [08:39<15:15,  2.09s/it]\u001b[A\n",
            "Training:  30%|███       | 188/625 [08:40<14:16,  1.96s/it]\u001b[A\n",
            "Training:  30%|███       | 189/625 [08:42<13:38,  1.88s/it]\u001b[A\n",
            "Training:  30%|███       | 190/625 [08:44<13:03,  1.80s/it]\u001b[A\n",
            "Training:  31%|███       | 191/625 [08:45<12:44,  1.76s/it]\u001b[A\n",
            "Training:  31%|███       | 192/625 [08:47<12:16,  1.70s/it]\u001b[A\n",
            "Training:  31%|███       | 193/625 [08:49<12:13,  1.70s/it]\u001b[A\n",
            "Training:  31%|███       | 194/625 [08:51<13:55,  1.94s/it]\u001b[A\n",
            "Training:  31%|███       | 195/625 [08:53<14:46,  2.06s/it]\u001b[A\n",
            "Training:  31%|███▏      | 196/625 [08:55<13:46,  1.93s/it]\u001b[A\n",
            "Training:  32%|███▏      | 197/625 [08:57<13:13,  1.85s/it]\u001b[A\n",
            "Training:  32%|███▏      | 198/625 [08:58<12:46,  1.79s/it]\u001b[A\n",
            "Training:  32%|███▏      | 199/625 [09:00<12:19,  1.74s/it]\u001b[A\n",
            "Training:  32%|███▏      | 200/625 [09:02<12:02,  1.70s/it]\u001b[A\n",
            "Training:  32%|███▏      | 201/625 [09:03<11:40,  1.65s/it]\u001b[A\n",
            "Training:  32%|███▏      | 202/625 [09:06<13:09,  1.87s/it]\u001b[A\n",
            "Training:  32%|███▏      | 203/625 [09:08<14:18,  2.04s/it]\u001b[A\n",
            "Training:  33%|███▎      | 204/625 [09:10<13:37,  1.94s/it]\u001b[A\n",
            "Training:  33%|███▎      | 205/625 [09:11<12:49,  1.83s/it]\u001b[A\n",
            "Training:  33%|███▎      | 206/625 [09:13<12:28,  1.79s/it]\u001b[A\n",
            "Training:  33%|███▎      | 207/625 [09:15<12:05,  1.74s/it]\u001b[A\n",
            "Training:  33%|███▎      | 208/625 [09:16<11:52,  1.71s/it]\u001b[A\n",
            "Training:  33%|███▎      | 209/625 [09:18<11:32,  1.66s/it]\u001b[A\n",
            "Training:  34%|███▎      | 210/625 [09:20<12:34,  1.82s/it]\u001b[A\n",
            "Training:  34%|███▍      | 211/625 [09:22<13:55,  2.02s/it]\u001b[A\n",
            "Training:  34%|███▍      | 212/625 [09:24<13:30,  1.96s/it]\u001b[A\n",
            "Training:  34%|███▍      | 213/625 [09:26<12:47,  1.86s/it]\u001b[A\n",
            "Training:  34%|███▍      | 214/625 [09:28<12:24,  1.81s/it]\u001b[A\n",
            "Training:  34%|███▍      | 215/625 [09:29<12:02,  1.76s/it]\u001b[A\n",
            "Training:  35%|███▍      | 216/625 [09:31<11:40,  1.71s/it]\u001b[A\n",
            "Training:  35%|███▍      | 217/625 [09:32<11:20,  1.67s/it]\u001b[A\n",
            "Training:  35%|███▍      | 218/625 [09:35<12:16,  1.81s/it]\u001b[A\n",
            "Training:  35%|███▌      | 219/625 [09:37<13:46,  2.04s/it]\u001b[A\n",
            "Training:  35%|███▌      | 220/625 [09:40<14:56,  2.21s/it]\u001b[A\n",
            "Training:  35%|███▌      | 221/625 [09:42<15:27,  2.30s/it]\u001b[A\n",
            "Training:  36%|███▌      | 222/625 [09:44<14:12,  2.11s/it]\u001b[A\n",
            "Training:  36%|███▌      | 223/625 [09:46<13:10,  1.97s/it]\u001b[A\n",
            "Training:  36%|███▌      | 224/625 [09:47<12:29,  1.87s/it]\u001b[A\n",
            "Training:  36%|███▌      | 225/625 [09:49<11:47,  1.77s/it]\u001b[A\n",
            "Training:  36%|███▌      | 226/625 [09:50<11:32,  1.73s/it]\u001b[A\n",
            "Training:  36%|███▋      | 227/625 [09:53<12:49,  1.93s/it]\u001b[A\n",
            "Training:  36%|███▋      | 228/625 [09:55<13:47,  2.08s/it]\u001b[A\n",
            "Training:  37%|███▋      | 229/625 [09:57<12:59,  1.97s/it]\u001b[A\n",
            "Training:  37%|███▋      | 230/625 [09:59<12:23,  1.88s/it]\u001b[A\n",
            "Training:  37%|███▋      | 231/625 [10:00<11:45,  1.79s/it]\u001b[A\n",
            "Training:  37%|███▋      | 232/625 [10:02<11:15,  1.72s/it]\u001b[A\n",
            "Training:  37%|███▋      | 233/625 [10:03<11:07,  1.70s/it]\u001b[A\n",
            "Training:  37%|███▋      | 234/625 [10:05<11:00,  1.69s/it]\u001b[A\n",
            "Training:  38%|███▊      | 235/625 [10:07<12:00,  1.85s/it]\u001b[A\n",
            "Training:  38%|███▊      | 236/625 [10:10<13:09,  2.03s/it]\u001b[A\n",
            "Training:  38%|███▊      | 237/625 [10:12<12:43,  1.97s/it]\u001b[A\n",
            "Training:  38%|███▊      | 238/625 [10:13<12:05,  1.87s/it]\u001b[A\n",
            "Training:  38%|███▊      | 239/625 [10:15<11:35,  1.80s/it]\u001b[A\n",
            "Training:  38%|███▊      | 240/625 [10:16<11:12,  1.75s/it]\u001b[A\n",
            "Training:  39%|███▊      | 241/625 [10:18<10:55,  1.71s/it]\u001b[A\n",
            "Training:  39%|███▊      | 242/625 [10:20<10:45,  1.69s/it]\u001b[A\n",
            "Training:  39%|███▉      | 243/625 [10:22<11:46,  1.85s/it]\u001b[A\n",
            "Training:  39%|███▉      | 244/625 [10:24<12:56,  2.04s/it]\u001b[A\n",
            "Training:  39%|███▉      | 245/625 [10:26<12:22,  1.95s/it]\u001b[A\n",
            "Training:  39%|███▉      | 246/625 [10:28<11:48,  1.87s/it]\u001b[A\n",
            "Training:  40%|███▉      | 247/625 [10:29<11:21,  1.80s/it]\u001b[A\n",
            "Training:  40%|███▉      | 248/625 [10:31<10:55,  1.74s/it]\u001b[A\n",
            "Training:  40%|███▉      | 249/625 [10:33<10:38,  1.70s/it]\u001b[A\n",
            "Training:  40%|████      | 250/625 [10:34<10:28,  1.68s/it]\u001b[A\n",
            "Training:  40%|████      | 251/625 [10:36<11:21,  1.82s/it]\u001b[A\n",
            "Training:  40%|████      | 252/625 [10:39<12:26,  2.00s/it]\u001b[A\n",
            "Training:  40%|████      | 253/625 [10:41<12:12,  1.97s/it]\u001b[A\n",
            "Training:  41%|████      | 254/625 [10:42<11:25,  1.85s/it]\u001b[A\n",
            "Training:  41%|████      | 255/625 [10:44<11:01,  1.79s/it]\u001b[A\n",
            "Training:  41%|████      | 256/625 [10:46<10:38,  1.73s/it]\u001b[A\n",
            "Training:  41%|████      | 257/625 [10:47<10:23,  1.69s/it]\u001b[A\n",
            "Training:  41%|████▏     | 258/625 [10:49<10:16,  1.68s/it]\u001b[A\n",
            "Training:  41%|████▏     | 259/625 [10:51<10:47,  1.77s/it]\u001b[A\n",
            "Training:  42%|████▏     | 260/625 [10:53<12:00,  1.97s/it]\u001b[A\n",
            "Training:  42%|████▏     | 261/625 [10:55<11:53,  1.96s/it]\u001b[A\n",
            "Training:  42%|████▏     | 262/625 [10:57<11:17,  1.87s/it]\u001b[A\n",
            "Training:  42%|████▏     | 263/625 [10:58<10:53,  1.81s/it]\u001b[A\n",
            "Training:  42%|████▏     | 264/625 [11:00<10:27,  1.74s/it]\u001b[A\n",
            "Training:  42%|████▏     | 265/625 [11:02<10:03,  1.68s/it]\u001b[A\n",
            "Training:  43%|████▎     | 266/625 [11:03<09:50,  1.65s/it]\u001b[A\n",
            "Training:  43%|████▎     | 267/625 [11:05<10:15,  1.72s/it]\u001b[A\n",
            "Training:  43%|████▎     | 268/625 [11:08<11:30,  1.93s/it]\u001b[A\n",
            "Training:  43%|████▎     | 269/625 [11:10<11:51,  2.00s/it]\u001b[A\n",
            "Training:  43%|████▎     | 270/625 [11:11<11:08,  1.88s/it]\u001b[A\n",
            "Training:  43%|████▎     | 271/625 [11:13<10:36,  1.80s/it]\u001b[A\n",
            "Training:  44%|████▎     | 272/625 [11:14<10:14,  1.74s/it]\u001b[A\n",
            "Training:  44%|████▎     | 273/625 [11:16<09:58,  1.70s/it]\u001b[A\n",
            "Training:  44%|████▍     | 274/625 [11:18<09:41,  1.66s/it]\u001b[A\n",
            "Training:  44%|████▍     | 275/625 [11:19<09:48,  1.68s/it]\u001b[A\n",
            "Training:  44%|████▍     | 276/625 [11:22<11:03,  1.90s/it]\u001b[A\n",
            "Training:  44%|████▍     | 277/625 [11:24<11:43,  2.02s/it]\u001b[A\n",
            "Training:  44%|████▍     | 278/625 [11:26<11:00,  1.90s/it]\u001b[A\n",
            "Training:  45%|████▍     | 279/625 [11:27<10:29,  1.82s/it]\u001b[A\n",
            "Training:  45%|████▍     | 280/625 [11:29<10:06,  1.76s/it]\u001b[A\n",
            "Training:  45%|████▍     | 281/625 [11:31<09:50,  1.72s/it]\u001b[A\n",
            "Training:  45%|████▌     | 282/625 [11:32<09:40,  1.69s/it]\u001b[A\n",
            "Training:  45%|████▌     | 283/625 [11:34<09:41,  1.70s/it]\u001b[A\n",
            "Training:  45%|████▌     | 284/625 [11:36<10:54,  1.92s/it]\u001b[A\n",
            "Training:  46%|████▌     | 285/625 [11:39<11:50,  2.09s/it]\u001b[A\n",
            "Training:  46%|████▌     | 286/625 [11:41<11:04,  1.96s/it]\u001b[A\n",
            "Training:  46%|████▌     | 287/625 [11:42<10:30,  1.87s/it]\u001b[A\n",
            "Training:  46%|████▌     | 288/625 [11:44<10:05,  1.80s/it]\u001b[A\n",
            "Training:  46%|████▌     | 289/625 [11:45<09:52,  1.76s/it]\u001b[A\n",
            "Training:  46%|████▋     | 290/625 [11:47<09:39,  1.73s/it]\u001b[A\n",
            "Training:  47%|████▋     | 291/625 [11:49<09:28,  1.70s/it]\u001b[A\n",
            "Training:  47%|████▋     | 292/625 [11:51<10:48,  1.95s/it]\u001b[A\n",
            "Training:  47%|████▋     | 293/625 [11:54<11:31,  2.08s/it]\u001b[A\n",
            "Training:  47%|████▋     | 294/625 [11:55<10:48,  1.96s/it]\u001b[A\n",
            "Training:  47%|████▋     | 295/625 [11:57<10:10,  1.85s/it]\u001b[A\n",
            "Training:  47%|████▋     | 296/625 [11:59<09:51,  1.80s/it]\u001b[A\n",
            "Training:  48%|████▊     | 297/625 [12:00<09:33,  1.75s/it]\u001b[A\n",
            "Training:  48%|████▊     | 298/625 [12:02<09:21,  1.72s/it]\u001b[A\n",
            "Training:  48%|████▊     | 299/625 [12:04<09:10,  1.69s/it]\u001b[A\n",
            "Training:  48%|████▊     | 300/625 [12:06<10:26,  1.93s/it]\u001b[A\n",
            "Training:  48%|████▊     | 301/625 [12:08<11:17,  2.09s/it]\u001b[A\n",
            "Training:  48%|████▊     | 302/625 [12:10<10:34,  1.96s/it]\u001b[A\n",
            "Training:  48%|████▊     | 303/625 [12:12<09:53,  1.84s/it]\u001b[A\n",
            "Training:  49%|████▊     | 304/625 [12:13<09:34,  1.79s/it]\u001b[A\n",
            "Training:  49%|████▉     | 305/625 [12:15<09:20,  1.75s/it]\u001b[A\n",
            "Training:  49%|████▉     | 306/625 [12:17<09:07,  1.72s/it]\u001b[A\n",
            "Training:  49%|████▉     | 307/625 [12:18<09:00,  1.70s/it]\u001b[A\n",
            "Training:  49%|████▉     | 308/625 [12:21<10:11,  1.93s/it]\u001b[A\n",
            "Training:  49%|████▉     | 309/625 [12:23<10:58,  2.08s/it]\u001b[A\n",
            "Training:  50%|████▉     | 310/625 [12:25<10:18,  1.96s/it]\u001b[A\n",
            "Training:  50%|████▉     | 311/625 [12:27<09:46,  1.87s/it]\u001b[A\n",
            "Training:  50%|████▉     | 312/625 [12:28<09:17,  1.78s/it]\u001b[A\n",
            "Training:  50%|█████     | 313/625 [12:30<08:54,  1.71s/it]\u001b[A\n",
            "Training:  50%|█████     | 314/625 [12:31<08:40,  1.67s/it]\u001b[A\n",
            "Training:  50%|█████     | 315/625 [12:33<08:29,  1.64s/it]\u001b[A\n",
            "Training:  51%|█████     | 316/625 [12:35<09:36,  1.87s/it]\u001b[A\n",
            "Training:  51%|█████     | 317/625 [12:38<10:31,  2.05s/it]\u001b[A\n",
            "Training:  51%|█████     | 318/625 [12:39<10:02,  1.96s/it]\u001b[A\n",
            "Training:  51%|█████     | 319/625 [12:41<09:30,  1.86s/it]\u001b[A\n",
            "Training:  51%|█████     | 320/625 [12:43<09:11,  1.81s/it]\u001b[A\n",
            "Training:  51%|█████▏    | 321/625 [12:44<08:54,  1.76s/it]\u001b[A\n",
            "Training:  52%|█████▏    | 322/625 [12:46<08:40,  1.72s/it]\u001b[A\n",
            "Training:  52%|█████▏    | 323/625 [12:48<08:33,  1.70s/it]\u001b[A\n",
            "Training:  52%|█████▏    | 324/625 [12:50<09:29,  1.89s/it]\u001b[A\n",
            "Training:  52%|█████▏    | 325/625 [12:52<10:14,  2.05s/it]\u001b[A\n",
            "Training:  52%|█████▏    | 326/625 [12:54<09:46,  1.96s/it]\u001b[A\n",
            "Training:  52%|█████▏    | 327/625 [12:56<09:31,  1.92s/it]\u001b[A\n",
            "Training:  52%|█████▏    | 328/625 [12:59<10:19,  2.09s/it]\u001b[A\n",
            "Training:  53%|█████▎    | 329/625 [13:01<10:38,  2.16s/it]\u001b[A\n",
            "Training:  53%|█████▎    | 330/625 [13:02<09:45,  1.99s/it]\u001b[A\n",
            "Training:  53%|█████▎    | 331/625 [13:05<10:09,  2.07s/it]\u001b[A\n",
            "Training:  53%|█████▎    | 332/625 [13:07<10:34,  2.17s/it]\u001b[A\n",
            "Training:  53%|█████▎    | 333/625 [13:09<10:04,  2.07s/it]\u001b[A\n",
            "Training:  53%|█████▎    | 334/625 [13:11<09:25,  1.94s/it]\u001b[A\n",
            "Training:  54%|█████▎    | 335/625 [13:12<09:00,  1.86s/it]\u001b[A\n",
            "Training:  54%|█████▍    | 336/625 [13:14<08:36,  1.79s/it]\u001b[A\n",
            "Training:  54%|█████▍    | 337/625 [13:16<08:25,  1.76s/it]\u001b[A\n",
            "Training:  54%|█████▍    | 338/625 [13:17<08:10,  1.71s/it]\u001b[A\n",
            "Training:  54%|█████▍    | 339/625 [13:19<08:48,  1.85s/it]\u001b[A\n",
            "Training:  54%|█████▍    | 340/625 [13:22<09:39,  2.03s/it]\u001b[A\n",
            "Training:  55%|█████▍    | 341/625 [13:24<09:22,  1.98s/it]\u001b[A\n",
            "Training:  55%|█████▍    | 342/625 [13:25<08:49,  1.87s/it]\u001b[A\n",
            "Training:  55%|█████▍    | 343/625 [13:27<08:31,  1.81s/it]\u001b[A\n",
            "Training:  55%|█████▌    | 344/625 [13:29<08:13,  1.76s/it]\u001b[A\n",
            "Training:  55%|█████▌    | 345/625 [13:30<08:00,  1.72s/it]\u001b[A\n",
            "Training:  55%|█████▌    | 346/625 [13:32<07:47,  1.68s/it]\u001b[A\n",
            "Training:  56%|█████▌    | 347/625 [13:34<08:20,  1.80s/it]\u001b[A\n",
            "Training:  56%|█████▌    | 348/625 [13:36<09:15,  2.00s/it]\u001b[A\n",
            "Training:  56%|█████▌    | 349/625 [13:38<09:04,  1.97s/it]\u001b[A\n",
            "Training:  56%|█████▌    | 350/625 [13:40<08:28,  1.85s/it]\u001b[A\n",
            "Training:  56%|█████▌    | 351/625 [13:41<08:10,  1.79s/it]\u001b[A\n",
            "Training:  56%|█████▋    | 352/625 [13:43<07:52,  1.73s/it]\u001b[A\n",
            "Training:  56%|█████▋    | 353/625 [13:45<07:41,  1.70s/it]\u001b[A\n",
            "Training:  57%|█████▋    | 354/625 [13:46<07:33,  1.67s/it]\u001b[A\n",
            "Training:  57%|█████▋    | 355/625 [13:48<07:50,  1.74s/it]\u001b[A\n",
            "Training:  57%|█████▋    | 356/625 [13:51<08:46,  1.96s/it]\u001b[A\n",
            "Training:  57%|█████▋    | 357/625 [13:53<08:48,  1.97s/it]\u001b[A\n",
            "Training:  57%|█████▋    | 358/625 [13:54<08:20,  1.87s/it]\u001b[A\n",
            "Training:  57%|█████▋    | 359/625 [13:56<07:57,  1.79s/it]\u001b[A\n",
            "Training:  58%|█████▊    | 360/625 [13:58<07:45,  1.76s/it]\u001b[A\n",
            "Training:  58%|█████▊    | 361/625 [13:59<07:30,  1.70s/it]\u001b[A\n",
            "Training:  58%|█████▊    | 362/625 [14:01<07:22,  1.68s/it]\u001b[A\n",
            "Training:  58%|█████▊    | 363/625 [14:02<07:20,  1.68s/it]\u001b[A\n",
            "Training:  58%|█████▊    | 364/625 [14:05<08:16,  1.90s/it]\u001b[A\n",
            "Training:  58%|█████▊    | 365/625 [14:07<08:48,  2.03s/it]\u001b[A\n",
            "Training:  59%|█████▊    | 366/625 [14:09<08:13,  1.90s/it]\u001b[A\n",
            "Training:  59%|█████▊    | 367/625 [14:10<07:52,  1.83s/it]\u001b[A\n",
            "Training:  59%|█████▉    | 368/625 [14:12<07:31,  1.76s/it]\u001b[A\n",
            "Training:  59%|█████▉    | 369/625 [14:14<07:23,  1.73s/it]\u001b[A\n",
            "Training:  59%|█████▉    | 370/625 [14:15<07:14,  1.71s/it]\u001b[A\n",
            "Training:  59%|█████▉    | 371/625 [14:17<07:04,  1.67s/it]\u001b[A\n",
            "Training:  60%|█████▉    | 372/625 [14:19<08:01,  1.90s/it]\u001b[A\n",
            "Training:  60%|█████▉    | 373/625 [14:22<08:31,  2.03s/it]\u001b[A\n",
            "Training:  60%|█████▉    | 374/625 [14:23<07:57,  1.90s/it]\u001b[A\n",
            "Training:  60%|██████    | 375/625 [14:25<07:36,  1.82s/it]\u001b[A\n",
            "Training:  60%|██████    | 376/625 [14:27<07:21,  1.77s/it]\u001b[A\n",
            "Training:  60%|██████    | 377/625 [14:28<07:08,  1.73s/it]\u001b[A\n",
            "Training:  60%|██████    | 378/625 [14:30<07:02,  1.71s/it]\u001b[A\n",
            "Training:  61%|██████    | 379/625 [14:31<06:48,  1.66s/it]\u001b[A\n",
            "Training:  61%|██████    | 380/625 [14:34<07:44,  1.90s/it]\u001b[A\n",
            "Training:  61%|██████    | 381/625 [14:36<08:19,  2.05s/it]\u001b[A\n",
            "Training:  61%|██████    | 382/625 [14:38<07:50,  1.94s/it]\u001b[A\n",
            "Training:  61%|██████▏   | 383/625 [14:40<07:28,  1.85s/it]\u001b[A\n",
            "Training:  61%|██████▏   | 384/625 [14:41<07:10,  1.79s/it]\u001b[A\n",
            "Training:  62%|██████▏   | 385/625 [14:43<06:59,  1.75s/it]\u001b[A\n",
            "Training:  62%|██████▏   | 386/625 [14:45<06:51,  1.72s/it]\u001b[A\n",
            "Training:  62%|██████▏   | 387/625 [14:46<06:44,  1.70s/it]\u001b[A\n",
            "Training:  62%|██████▏   | 388/625 [14:49<07:35,  1.92s/it]\u001b[A\n",
            "Training:  62%|██████▏   | 389/625 [14:51<08:13,  2.09s/it]\u001b[A\n",
            "Training:  62%|██████▏   | 390/625 [14:53<07:36,  1.94s/it]\u001b[A\n",
            "Training:  63%|██████▎   | 391/625 [14:54<07:08,  1.83s/it]\u001b[A\n",
            "Training:  63%|██████▎   | 392/625 [14:56<06:53,  1.77s/it]\u001b[A\n",
            "Training:  63%|██████▎   | 393/625 [14:58<06:38,  1.72s/it]\u001b[A\n",
            "Training:  63%|██████▎   | 394/625 [14:59<06:34,  1.71s/it]\u001b[A\n",
            "Training:  63%|██████▎   | 395/625 [15:01<06:26,  1.68s/it]\u001b[A\n",
            "Training:  63%|██████▎   | 396/625 [15:03<07:11,  1.89s/it]\u001b[A\n",
            "Training:  64%|██████▎   | 397/625 [15:06<07:47,  2.05s/it]\u001b[A\n",
            "Training:  64%|██████▎   | 398/625 [15:07<07:19,  1.94s/it]\u001b[A\n",
            "Training:  64%|██████▍   | 399/625 [15:09<06:59,  1.86s/it]\u001b[A\n",
            "Training:  64%|██████▍   | 400/625 [15:11<06:45,  1.80s/it]\u001b[A\n",
            "Training:  64%|██████▍   | 401/625 [15:12<06:31,  1.75s/it]\u001b[A\n",
            "Training:  64%|██████▍   | 402/625 [15:14<06:24,  1.73s/it]\u001b[A\n",
            "Training:  64%|██████▍   | 403/625 [15:16<06:15,  1.69s/it]\u001b[A\n",
            "Training:  65%|██████▍   | 404/625 [15:18<06:59,  1.90s/it]\u001b[A\n",
            "Training:  65%|██████▍   | 405/625 [15:20<07:34,  2.07s/it]\u001b[A\n",
            "Training:  65%|██████▍   | 406/625 [15:22<07:08,  1.96s/it]\u001b[A\n",
            "Training:  65%|██████▌   | 407/625 [15:24<06:40,  1.84s/it]\u001b[A\n",
            "Training:  65%|██████▌   | 408/625 [15:25<06:23,  1.77s/it]\u001b[A\n",
            "Training:  65%|██████▌   | 409/625 [15:27<06:11,  1.72s/it]\u001b[A\n",
            "Training:  66%|██████▌   | 410/625 [15:29<06:04,  1.70s/it]\u001b[A\n",
            "Training:  66%|██████▌   | 411/625 [15:30<05:58,  1.67s/it]\u001b[A\n",
            "Training:  66%|██████▌   | 412/625 [15:32<06:24,  1.81s/it]\u001b[A\n",
            "Training:  66%|██████▌   | 413/625 [15:35<07:04,  2.00s/it]\u001b[A\n",
            "Training:  66%|██████▌   | 414/625 [15:37<06:52,  1.95s/it]\u001b[A\n",
            "Training:  66%|██████▋   | 415/625 [15:38<06:32,  1.87s/it]\u001b[A\n",
            "Training:  67%|██████▋   | 416/625 [15:40<06:16,  1.80s/it]\u001b[A\n",
            "Training:  67%|██████▋   | 417/625 [15:42<06:02,  1.74s/it]\u001b[A\n",
            "Training:  67%|██████▋   | 418/625 [15:43<05:50,  1.70s/it]\u001b[A\n",
            "Training:  67%|██████▋   | 419/625 [15:45<05:44,  1.67s/it]\u001b[A\n",
            "Training:  67%|██████▋   | 420/625 [15:47<06:15,  1.83s/it]\u001b[A\n",
            "Training:  67%|██████▋   | 421/625 [15:49<06:50,  2.01s/it]\u001b[A\n",
            "Training:  68%|██████▊   | 422/625 [15:51<06:45,  2.00s/it]\u001b[A\n",
            "Training:  68%|██████▊   | 423/625 [15:53<06:22,  1.89s/it]\u001b[A\n",
            "Training:  68%|██████▊   | 424/625 [15:55<06:05,  1.82s/it]\u001b[A\n",
            "Training:  68%|██████▊   | 425/625 [15:56<05:53,  1.77s/it]\u001b[A\n",
            "Training:  68%|██████▊   | 426/625 [15:58<05:40,  1.71s/it]\u001b[A\n",
            "Training:  68%|██████▊   | 427/625 [16:00<05:37,  1.70s/it]\u001b[A\n",
            "Training:  68%|██████▊   | 428/625 [16:02<06:00,  1.83s/it]\u001b[A\n",
            "Training:  69%|██████▊   | 429/625 [16:04<06:33,  2.01s/it]\u001b[A\n",
            "Training:  69%|██████▉   | 430/625 [16:06<06:26,  1.98s/it]\u001b[A\n",
            "Training:  69%|██████▉   | 431/625 [16:08<06:01,  1.86s/it]\u001b[A\n",
            "Training:  69%|██████▉   | 432/625 [16:09<05:44,  1.78s/it]\u001b[A\n",
            "Training:  69%|██████▉   | 433/625 [16:11<05:35,  1.75s/it]\u001b[A\n",
            "Training:  69%|██████▉   | 434/625 [16:13<05:29,  1.73s/it]\u001b[A\n",
            "Training:  70%|██████▉   | 435/625 [16:14<05:18,  1.68s/it]\u001b[A\n",
            "Training:  70%|██████▉   | 436/625 [16:16<05:42,  1.81s/it]\u001b[A\n",
            "Training:  70%|██████▉   | 437/625 [16:19<06:28,  2.06s/it]\u001b[A\n",
            "Training:  70%|███████   | 438/625 [16:22<07:00,  2.25s/it]\u001b[A\n",
            "Training:  70%|███████   | 439/625 [16:24<07:17,  2.35s/it]\u001b[A\n",
            "Training:  70%|███████   | 440/625 [16:26<06:36,  2.14s/it]\u001b[A\n",
            "Training:  71%|███████   | 441/625 [16:27<06:08,  2.00s/it]\u001b[A\n",
            "Training:  71%|███████   | 442/625 [16:29<05:47,  1.90s/it]\u001b[A\n",
            "Training:  71%|███████   | 443/625 [16:31<05:25,  1.79s/it]\u001b[A\n",
            "Training:  71%|███████   | 444/625 [16:32<05:12,  1.73s/it]\u001b[A\n",
            "Training:  71%|███████   | 445/625 [16:34<05:08,  1.72s/it]\u001b[A\n",
            "Training:  71%|███████▏  | 446/625 [16:36<05:46,  1.94s/it]\u001b[A\n",
            "Training:  72%|███████▏  | 447/625 [16:39<06:09,  2.07s/it]\u001b[A\n",
            "Training:  72%|███████▏  | 448/625 [16:40<05:46,  1.96s/it]\u001b[A\n",
            "Training:  72%|███████▏  | 449/625 [16:42<05:27,  1.86s/it]\u001b[A\n",
            "Training:  72%|███████▏  | 450/625 [16:44<05:15,  1.80s/it]\u001b[A\n",
            "Training:  72%|███████▏  | 451/625 [16:45<05:07,  1.77s/it]\u001b[A\n",
            "Training:  72%|███████▏  | 452/625 [16:47<04:59,  1.73s/it]\u001b[A\n",
            "Training:  72%|███████▏  | 453/625 [16:49<04:51,  1.69s/it]\u001b[A\n",
            "Training:  73%|███████▎  | 454/625 [16:51<05:29,  1.93s/it]\u001b[A\n",
            "Training:  73%|███████▎  | 455/625 [16:54<05:55,  2.09s/it]\u001b[A\n",
            "Training:  73%|███████▎  | 456/625 [16:55<05:34,  1.98s/it]\u001b[A\n",
            "Training:  73%|███████▎  | 457/625 [16:57<05:18,  1.89s/it]\u001b[A\n",
            "Training:  73%|███████▎  | 458/625 [16:59<05:02,  1.81s/it]\u001b[A\n",
            "Training:  73%|███████▎  | 459/625 [17:00<04:53,  1.77s/it]\u001b[A\n",
            "Training:  74%|███████▎  | 460/625 [17:02<04:48,  1.75s/it]\u001b[A\n",
            "Training:  74%|███████▍  | 461/625 [17:04<04:44,  1.74s/it]\u001b[A\n",
            "Training:  74%|███████▍  | 462/625 [17:06<05:21,  1.97s/it]\u001b[A\n",
            "Training:  74%|███████▍  | 463/625 [17:09<05:40,  2.10s/it]\u001b[A\n",
            "Training:  74%|███████▍  | 464/625 [17:10<05:18,  1.98s/it]\u001b[A\n",
            "Training:  74%|███████▍  | 465/625 [17:12<05:01,  1.88s/it]\u001b[A\n",
            "Training:  75%|███████▍  | 466/625 [17:14<04:45,  1.79s/it]\u001b[A\n",
            "Training:  75%|███████▍  | 467/625 [17:15<04:38,  1.76s/it]\u001b[A\n",
            "Training:  75%|███████▍  | 468/625 [17:17<04:31,  1.73s/it]\u001b[A\n",
            "Training:  75%|███████▌  | 469/625 [17:19<04:29,  1.73s/it]\u001b[A\n",
            "Training:  75%|███████▌  | 470/625 [17:21<04:58,  1.93s/it]\u001b[A\n",
            "Training:  75%|███████▌  | 471/625 [17:23<05:18,  2.07s/it]\u001b[A\n",
            "Training:  76%|███████▌  | 472/625 [17:25<04:54,  1.92s/it]\u001b[A\n",
            "Training:  76%|███████▌  | 473/625 [17:27<04:41,  1.85s/it]\u001b[A\n",
            "Training:  76%|███████▌  | 474/625 [17:28<04:31,  1.80s/it]\u001b[A\n",
            "Training:  76%|███████▌  | 475/625 [17:30<04:22,  1.75s/it]\u001b[A\n",
            "Training:  76%|███████▌  | 476/625 [17:32<04:14,  1.71s/it]\u001b[A\n",
            "Training:  76%|███████▋  | 477/625 [17:33<04:07,  1.67s/it]\u001b[A\n",
            "Training:  76%|███████▋  | 478/625 [17:36<04:41,  1.91s/it]\u001b[A\n",
            "Training:  77%|███████▋  | 479/625 [17:38<05:01,  2.07s/it]\u001b[A\n",
            "Training:  77%|███████▋  | 480/625 [17:40<04:41,  1.94s/it]\u001b[A\n",
            "Training:  77%|███████▋  | 481/625 [17:41<04:26,  1.85s/it]\u001b[A\n",
            "Training:  77%|███████▋  | 482/625 [17:43<04:14,  1.78s/it]\u001b[A\n",
            "Training:  77%|███████▋  | 483/625 [17:45<04:07,  1.74s/it]\u001b[A\n",
            "Training:  77%|███████▋  | 484/625 [17:46<04:02,  1.72s/it]\u001b[A\n",
            "Training:  78%|███████▊  | 485/625 [17:48<03:58,  1.71s/it]\u001b[A\n",
            "Training:  78%|███████▊  | 486/625 [17:50<04:26,  1.92s/it]\u001b[A\n",
            "Training:  78%|███████▊  | 487/625 [17:53<04:49,  2.10s/it]\u001b[A\n",
            "Training:  78%|███████▊  | 488/625 [17:55<04:31,  1.98s/it]\u001b[A\n",
            "Training:  78%|███████▊  | 489/625 [17:56<04:19,  1.90s/it]\u001b[A\n",
            "Training:  78%|███████▊  | 490/625 [17:58<04:06,  1.82s/it]\u001b[A\n",
            "Training:  79%|███████▊  | 491/625 [18:00<03:56,  1.76s/it]\u001b[A\n",
            "Training:  79%|███████▊  | 492/625 [18:01<03:47,  1.71s/it]\u001b[A\n",
            "Training:  79%|███████▉  | 493/625 [18:03<03:38,  1.65s/it]\u001b[A\n",
            "Training:  79%|███████▉  | 494/625 [18:05<04:04,  1.86s/it]\u001b[A\n",
            "Training:  79%|███████▉  | 495/625 [18:08<04:26,  2.05s/it]\u001b[A\n",
            "Training:  79%|███████▉  | 496/625 [18:09<04:12,  1.96s/it]\u001b[A\n",
            "Training:  80%|███████▉  | 497/625 [18:11<03:58,  1.86s/it]\u001b[A\n",
            "Training:  80%|███████▉  | 498/625 [18:13<03:49,  1.81s/it]\u001b[A\n",
            "Training:  80%|███████▉  | 499/625 [18:14<03:42,  1.77s/it]\u001b[A\n",
            "Training:  80%|████████  | 500/625 [18:16<03:38,  1.75s/it]\u001b[A\n",
            "Training:  80%|████████  | 501/625 [18:18<03:32,  1.71s/it]\u001b[A\n",
            "Training:  80%|████████  | 502/625 [18:20<03:53,  1.90s/it]\u001b[A\n",
            "Training:  80%|████████  | 503/625 [18:22<04:11,  2.06s/it]\u001b[A\n",
            "Training:  81%|████████  | 504/625 [18:24<03:57,  1.96s/it]\u001b[A\n",
            "Training:  81%|████████  | 505/625 [18:26<03:42,  1.86s/it]\u001b[A\n",
            "Training:  81%|████████  | 506/625 [18:27<03:34,  1.80s/it]\u001b[A\n",
            "Training:  81%|████████  | 507/625 [18:29<03:28,  1.77s/it]\u001b[A\n",
            "Training:  81%|████████▏ | 508/625 [18:31<03:23,  1.74s/it]\u001b[A\n",
            "Training:  81%|████████▏ | 509/625 [18:32<03:15,  1.69s/it]\u001b[A\n",
            "Training:  82%|████████▏ | 510/625 [18:35<03:33,  1.86s/it]\u001b[A\n",
            "Training:  82%|████████▏ | 511/625 [18:37<03:51,  2.03s/it]\u001b[A\n",
            "Training:  82%|████████▏ | 512/625 [18:39<03:39,  1.94s/it]\u001b[A\n",
            "Training:  82%|████████▏ | 513/625 [18:41<03:28,  1.86s/it]\u001b[A\n",
            "Training:  82%|████████▏ | 514/625 [18:42<03:17,  1.78s/it]\u001b[A\n",
            "Training:  82%|████████▏ | 515/625 [18:44<03:11,  1.74s/it]\u001b[A\n",
            "Training:  83%|████████▎ | 516/625 [18:45<03:07,  1.72s/it]\u001b[A\n",
            "Training:  83%|████████▎ | 517/625 [18:47<03:02,  1.69s/it]\u001b[A\n",
            "Training:  83%|████████▎ | 518/625 [18:49<03:16,  1.84s/it]\u001b[A\n",
            "Training:  83%|████████▎ | 519/625 [18:52<03:35,  2.03s/it]\u001b[A\n",
            "Training:  83%|████████▎ | 520/625 [18:54<03:28,  1.99s/it]\u001b[A\n",
            "Training:  83%|████████▎ | 521/625 [18:55<03:17,  1.89s/it]\u001b[A\n",
            "Training:  84%|████████▎ | 522/625 [18:57<03:07,  1.82s/it]\u001b[A\n",
            "Training:  84%|████████▎ | 523/625 [18:59<02:58,  1.75s/it]\u001b[A\n",
            "Training:  84%|████████▍ | 524/625 [19:00<02:51,  1.70s/it]\u001b[A\n",
            "Training:  84%|████████▍ | 525/625 [19:02<02:48,  1.69s/it]\u001b[A\n",
            "Training:  84%|████████▍ | 526/625 [19:04<03:02,  1.84s/it]\u001b[A\n",
            "Training:  84%|████████▍ | 527/625 [19:06<03:17,  2.01s/it]\u001b[A\n",
            "Training:  84%|████████▍ | 528/625 [19:08<03:11,  1.97s/it]\u001b[A\n",
            "Training:  85%|████████▍ | 529/625 [19:10<02:58,  1.86s/it]\u001b[A\n",
            "Training:  85%|████████▍ | 530/625 [19:11<02:50,  1.80s/it]\u001b[A\n",
            "Training:  85%|████████▍ | 531/625 [19:13<02:45,  1.76s/it]\u001b[A\n",
            "Training:  85%|████████▌ | 532/625 [19:15<02:40,  1.72s/it]\u001b[A\n",
            "Training:  85%|████████▌ | 533/625 [19:16<02:34,  1.68s/it]\u001b[A\n",
            "Training:  85%|████████▌ | 534/625 [19:18<02:41,  1.78s/it]\u001b[A\n",
            "Training:  86%|████████▌ | 535/625 [19:21<02:58,  1.98s/it]\u001b[A\n",
            "Training:  86%|████████▌ | 536/625 [19:23<02:56,  1.98s/it]\u001b[A\n",
            "Training:  86%|████████▌ | 537/625 [19:24<02:44,  1.87s/it]\u001b[A\n",
            "Training:  86%|████████▌ | 538/625 [19:26<02:36,  1.79s/it]\u001b[A\n",
            "Training:  86%|████████▌ | 539/625 [19:28<02:31,  1.77s/it]\u001b[A\n",
            "Training:  86%|████████▋ | 540/625 [19:29<02:26,  1.73s/it]\u001b[A\n",
            "Training:  87%|████████▋ | 541/625 [19:31<02:22,  1.70s/it]\u001b[A\n",
            "Training:  87%|████████▋ | 542/625 [19:33<02:29,  1.80s/it]\u001b[A\n",
            "Training:  87%|████████▋ | 543/625 [19:36<02:44,  2.01s/it]\u001b[A\n",
            "Training:  87%|████████▋ | 544/625 [19:38<02:58,  2.21s/it]\u001b[A\n",
            "Training:  87%|████████▋ | 545/625 [19:41<03:03,  2.29s/it]\u001b[A\n",
            "Training:  87%|████████▋ | 546/625 [19:43<02:50,  2.16s/it]\u001b[A\n",
            "Training:  88%|████████▊ | 547/625 [19:44<02:37,  2.02s/it]\u001b[A\n",
            "Training:  88%|████████▊ | 548/625 [19:46<02:27,  1.91s/it]\u001b[A\n",
            "Training:  88%|████████▊ | 549/625 [19:48<02:18,  1.82s/it]\u001b[A\n",
            "Training:  88%|████████▊ | 550/625 [19:49<02:17,  1.83s/it]\u001b[A\n",
            "Training:  88%|████████▊ | 551/625 [19:52<02:31,  2.04s/it]\u001b[A\n",
            "Training:  88%|████████▊ | 552/625 [19:54<02:31,  2.07s/it]\u001b[A\n",
            "Training:  88%|████████▊ | 553/625 [19:56<02:21,  1.96s/it]\u001b[A\n",
            "Training:  89%|████████▊ | 554/625 [19:57<02:12,  1.87s/it]\u001b[A\n",
            "Training:  89%|████████▉ | 555/625 [19:59<02:06,  1.80s/it]\u001b[A\n",
            "Training:  89%|████████▉ | 556/625 [20:01<02:01,  1.76s/it]\u001b[A\n",
            "Training:  89%|████████▉ | 557/625 [20:02<01:57,  1.72s/it]\u001b[A\n",
            "Training:  89%|████████▉ | 558/625 [20:04<02:00,  1.81s/it]\u001b[A\n",
            "Training:  89%|████████▉ | 559/625 [20:07<02:12,  2.00s/it]\u001b[A\n",
            "Training:  90%|████████▉ | 560/625 [20:09<02:10,  2.01s/it]\u001b[A\n",
            "Training:  90%|████████▉ | 561/625 [20:11<02:01,  1.90s/it]\u001b[A\n",
            "Training:  90%|████████▉ | 562/625 [20:12<01:56,  1.85s/it]\u001b[A\n",
            "Training:  90%|█████████ | 563/625 [20:14<01:50,  1.79s/it]\u001b[A\n",
            "Training:  90%|█████████ | 564/625 [20:16<01:46,  1.75s/it]\u001b[A\n",
            "Training:  90%|█████████ | 565/625 [20:17<01:43,  1.73s/it]\u001b[A\n",
            "Training:  91%|█████████ | 566/625 [20:19<01:46,  1.81s/it]\u001b[A\n",
            "Training:  91%|█████████ | 567/625 [20:22<01:56,  2.01s/it]\u001b[A\n",
            "Training:  91%|█████████ | 568/625 [20:24<01:54,  2.02s/it]\u001b[A\n",
            "Training:  91%|█████████ | 569/625 [20:25<01:45,  1.89s/it]\u001b[A\n",
            "Training:  91%|█████████ | 570/625 [20:27<01:39,  1.81s/it]\u001b[A\n",
            "Training:  91%|█████████▏| 571/625 [20:29<01:34,  1.75s/it]\u001b[A\n",
            "Training:  92%|█████████▏| 572/625 [20:30<01:30,  1.71s/it]\u001b[A\n",
            "Training:  92%|█████████▏| 573/625 [20:32<01:27,  1.68s/it]\u001b[A\n",
            "Training:  92%|█████████▏| 574/625 [20:34<01:29,  1.76s/it]\u001b[A\n",
            "Training:  92%|█████████▏| 575/625 [20:36<01:37,  1.96s/it]\u001b[A\n",
            "Training:  92%|█████████▏| 576/625 [20:38<01:37,  1.99s/it]\u001b[A\n",
            "Training:  92%|█████████▏| 577/625 [20:40<01:31,  1.90s/it]\u001b[A\n",
            "Training:  92%|█████████▏| 578/625 [20:42<01:25,  1.83s/it]\u001b[A\n",
            "Training:  93%|█████████▎| 579/625 [20:43<01:21,  1.78s/it]\u001b[A\n",
            "Training:  93%|█████████▎| 580/625 [20:45<01:18,  1.74s/it]\u001b[A\n",
            "Training:  93%|█████████▎| 581/625 [20:47<01:15,  1.72s/it]\u001b[A\n",
            "Training:  93%|█████████▎| 582/625 [20:48<01:16,  1.79s/it]\u001b[A\n",
            "Training:  93%|█████████▎| 583/625 [20:51<01:23,  1.99s/it]\u001b[A\n",
            "Training:  93%|█████████▎| 584/625 [20:53<01:23,  2.03s/it]\u001b[A\n",
            "Training:  94%|█████████▎| 585/625 [20:55<01:17,  1.93s/it]\u001b[A\n",
            "Training:  94%|█████████▍| 586/625 [20:56<01:12,  1.86s/it]\u001b[A\n",
            "Training:  94%|█████████▍| 587/625 [20:58<01:08,  1.80s/it]\u001b[A\n",
            "Training:  94%|█████████▍| 588/625 [21:00<01:05,  1.77s/it]\u001b[A\n",
            "Training:  94%|█████████▍| 589/625 [21:01<01:01,  1.72s/it]\u001b[A\n",
            "Training:  94%|█████████▍| 590/625 [21:03<01:01,  1.76s/it]\u001b[A\n",
            "Training:  95%|█████████▍| 591/625 [21:06<01:06,  1.96s/it]\u001b[A\n",
            "Training:  95%|█████████▍| 592/625 [21:08<01:06,  2.01s/it]\u001b[A\n",
            "Training:  95%|█████████▍| 593/625 [21:09<01:00,  1.89s/it]\u001b[A\n",
            "Training:  95%|█████████▌| 594/625 [21:11<00:56,  1.84s/it]\u001b[A\n",
            "Training:  95%|█████████▌| 595/625 [21:13<00:53,  1.78s/it]\u001b[A\n",
            "Training:  95%|█████████▌| 596/625 [21:15<00:50,  1.75s/it]\u001b[A\n",
            "Training:  96%|█████████▌| 597/625 [21:16<00:48,  1.72s/it]\u001b[A\n",
            "Training:  96%|█████████▌| 598/625 [21:18<00:47,  1.76s/it]\u001b[A\n",
            "Training:  96%|█████████▌| 599/625 [21:20<00:51,  1.96s/it]\u001b[A\n",
            "Training:  96%|█████████▌| 600/625 [21:23<00:50,  2.03s/it]\u001b[A\n",
            "Training:  96%|█████████▌| 601/625 [21:24<00:46,  1.92s/it]\u001b[A\n",
            "Training:  96%|█████████▋| 602/625 [21:26<00:42,  1.83s/it]\u001b[A\n",
            "Training:  96%|█████████▋| 603/625 [21:28<00:39,  1.78s/it]\u001b[A\n",
            "Training:  97%|█████████▋| 604/625 [21:29<00:36,  1.74s/it]\u001b[A\n",
            "Training:  97%|█████████▋| 605/625 [21:31<00:34,  1.73s/it]\u001b[A\n",
            "Training:  97%|█████████▋| 606/625 [21:33<00:33,  1.74s/it]\u001b[A\n",
            "Training:  97%|█████████▋| 607/625 [21:35<00:35,  1.97s/it]\u001b[A\n",
            "Training:  97%|█████████▋| 608/625 [21:37<00:34,  2.06s/it]\u001b[A\n",
            "Training:  97%|█████████▋| 609/625 [21:39<00:31,  1.94s/it]\u001b[A\n",
            "Training:  98%|█████████▊| 610/625 [21:41<00:27,  1.85s/it]\u001b[A\n",
            "Training:  98%|█████████▊| 611/625 [21:42<00:25,  1.79s/it]\u001b[A\n",
            "Training:  98%|█████████▊| 612/625 [21:44<00:22,  1.73s/it]\u001b[A\n",
            "Training:  98%|█████████▊| 613/625 [21:46<00:20,  1.71s/it]\u001b[A\n",
            "Training:  98%|█████████▊| 614/625 [21:47<00:18,  1.71s/it]\u001b[A\n",
            "Training:  98%|█████████▊| 615/625 [21:50<00:19,  1.95s/it]\u001b[A\n",
            "Training:  99%|█████████▊| 616/625 [21:52<00:18,  2.04s/it]\u001b[A\n",
            "Training:  99%|█████████▊| 617/625 [21:54<00:15,  1.97s/it]\u001b[A\n",
            "Training:  99%|█████████▉| 618/625 [21:56<00:14,  2.00s/it]\u001b[A\n",
            "Training:  99%|█████████▉| 619/625 [21:58<00:11,  1.90s/it]\u001b[A\n",
            "Training:  99%|█████████▉| 620/625 [21:59<00:09,  1.84s/it]\u001b[A\n",
            "Training:  99%|█████████▉| 621/625 [22:01<00:07,  1.80s/it]\u001b[A\n",
            "Training: 100%|█████████▉| 622/625 [22:03<00:05,  1.92s/it]\u001b[A\n",
            "Training: 100%|█████████▉| 623/625 [22:06<00:04,  2.11s/it]\u001b[A\n",
            "Training: 100%|█████████▉| 624/625 [22:08<00:02,  2.04s/it]\u001b[A\n",
            "Training: 100%|██████████| 625/625 [22:09<00:00,  2.13s/it]\n"
          ]
        },
        {
          "output_type": "stream",
          "name": "stdout",
          "text": [
            "Epoch 1\n",
            "train_loss : 370.36416375637054 test_loss : 82.0233083665371\n",
            "train_accuracy : 66.64750000000001 test_accuracy : 76.23\n",
            "Validation loss decreased (inf --> 82.023308).  Saving model ...\n",
            "======================================================================\n"
          ]
        },
        {
          "output_type": "stream",
          "name": "stderr",
          "text": [
            "Training: 100%|██████████| 625/625 [18:59<00:00,  1.82s/it]\n"
          ]
        },
        {
          "output_type": "stream",
          "name": "stdout",
          "text": [
            "Epoch 2\n",
            "train_loss : 197.32648167014122 test_loss : 46.30578365921974\n",
            "train_accuracy : 86.8225 test_accuracy : 87.98\n",
            "Validation loss decreased (82.023308 --> 46.305784).  Saving model ...\n",
            "======================================================================\n"
          ]
        },
        {
          "output_type": "stream",
          "name": "stderr",
          "text": [
            "Training: 100%|██████████| 625/625 [19:16<00:00,  1.85s/it]\n"
          ]
        },
        {
          "output_type": "stream",
          "name": "stdout",
          "text": [
            "Epoch 3\n",
            "train_loss : 132.75965418294072 test_loss : 46.67907467484474\n",
            "train_accuracy : 91.805 test_accuracy : 87.89\n",
            "======================================================================\n"
          ]
        }
      ],
      "source": [
        "learning_rate = 1e-3\n",
        "num_epochs = 3\n",
        "\n",
        "criterion = nn.BCELoss()\n",
        "optimizer = torch.optim.Adam(model.parameters(), lr = learning_rate)\n",
        "\n",
        "def accuracy(prediction, label):\n",
        "    prediction = torch.round(prediction.squeeze())\n",
        "    return torch.sum(prediction == label.squeeze()).item()\n",
        "\n",
        "min_loss_attained = np.Inf    # this variable will contain the minimum value of the loss function attained in any of the epochs.\n",
        "                              #It is used to discard the results of further epochs if their losses are more than min_loss_attained.\n",
        "\n",
        "epoch_train_loss,epoch_test_loss = [],[]\n",
        "epoch_train_acc,epoch_test_acc = [],[]    # These lists will hold the average loss and accuracy values of each epoch\n",
        "\n",
        "\n",
        "\n",
        "for epoch in range(num_epochs):\n",
        "  train_losses = 0.0\n",
        "  train_accuracy = 0.0\n",
        "\n",
        "  progress_bar = tqdm(total=len(train_batch_loader), desc='Training', leave = True)  # You don't need to worry about this line,\n",
        "                                                                                          # it's just to display a progress bar that shows the percentage trained\n",
        "\n",
        "  model.train()\n",
        "\n",
        "  for inputs, labels in train_batch_loader:\n",
        "    inputs, labels = inputs.to(device), labels.to(device)\n",
        "\n",
        "    # <START>\n",
        "    optimizer.zero_grad()\n",
        "    # Don't forget to reset the gradients before beginning!\n",
        "    output = model(inputs)\n",
        "\n",
        "    # compute the loss and implement the back propagation step\n",
        "    labels = labels.float()\n",
        "    loss = criterion(output,labels)\n",
        "    loss.backward()\n",
        "    optimizer.step()\n",
        "\n",
        "    # <END>\n",
        "\n",
        "    # Calculating loss and accuracy; we will store the cumulative values and finally use them to compute the average loss and accuracy of the epoch\n",
        "    train_losses += loss.item()\n",
        "    acc = accuracy(output,labels)\n",
        "    train_accuracy += acc\n",
        "\n",
        "    nn.utils.clip_grad_norm_(model.parameters(), 5) # This line helps avoid the exploding gradient problem\n",
        "\n",
        "    optimizer.step()\n",
        "\n",
        "    progress_bar.update(1)\n",
        "\n",
        "  progress_bar.close()\n",
        "\n",
        "  # After the training run of each epoch, we will evaluate the performance of our model\n",
        "\n",
        "  test_losses = 0.0  # Again, this will store cumulative loss\n",
        "  test_accuracy = 0.0   # and this will store cumulative test accuracy\n",
        "\n",
        "  model.eval()\n",
        "\n",
        "  for inputs, labels in test_batch_loader:\n",
        "    inputs, labels = inputs.to(device), labels.to(device)\n",
        "\n",
        "    # <START>   # Compute the loss\n",
        "    output = model(inputs)\n",
        "    labels = labels.float()\n",
        "    test_loss = criterion(output,labels)\n",
        "    # <END>\n",
        "\n",
        "    test_losses += test_loss.item()\n",
        "\n",
        "    acc = accuracy(output,labels)\n",
        "    test_accuracy += acc\n",
        "\n",
        "\n",
        "  epoch_train_accuracy = train_accuracy/len(train_batch_loader.dataset)\n",
        "  epoch_test_accuracy = test_accuracy/len(test_batch_loader.dataset)\n",
        "\n",
        "\n",
        "  avg_train_loss = np.mean(train_losses)\n",
        "  avg_test_loss = np.mean(test_losses)\n",
        "\n",
        "  epoch_train_loss.append(avg_train_loss)\n",
        "  epoch_test_loss.append(avg_test_loss)\n",
        "  epoch_test_acc.append(epoch_test_accuracy)\n",
        "  epoch_train_acc.append(epoch_train_accuracy)\n",
        "\n",
        "  print(f'Epoch {epoch+1}')\n",
        "  print(f'train_loss : {avg_train_loss} test_loss : {avg_test_loss}')\n",
        "  print(f'train_accuracy : {epoch_train_accuracy*100} test_accuracy : {epoch_test_accuracy*100}')\n",
        "  if avg_test_loss < min_loss_attained:\n",
        "    torch.save(model.state_dict(), '/content/drive/MyDrive/state_dict.pt')\n",
        "    print('Validation loss decreased ({:.6f} --> {:.6f}).  Saving model ...'.format(min_loss_attained, avg_test_loss))\n",
        "    min_loss_attained = avg_test_loss\n",
        "  print(70*'=')\n"
      ]
    },
    {
      "cell_type": "markdown",
      "source": [
        "Let's visualize the accuracy and loss of our model graphically. Run the below cell to generate plots for the same."
      ],
      "metadata": {
        "id": "X_UPDcpRk8HI"
      }
    },
    {
      "cell_type": "code",
      "execution_count": null,
      "metadata": {
        "id": "vtl0ZSZFBrbQ",
        "colab": {
          "base_uri": "https://localhost:8080/",
          "height": 397
        },
        "outputId": "ff201286-7c0b-478a-a79a-3367888f9c68"
      },
      "outputs": [
        {
          "output_type": "display_data",
          "data": {
            "text/plain": [
              "<Figure size 2000x600 with 2 Axes>"
            ],
            "image/png": "[encoded data removed]"
          },
          "metadata": {}
        }
      ],
      "source": [
        "fig = plt.figure(figsize = (20, 6))\n",
        "plt.subplot(1, 2, 1)\n",
        "plt.plot(epoch_train_acc, label='Training Accuracy')\n",
        "plt.plot(epoch_test_acc, label='Testing Accuracy')\n",
        "plt.title(\"Accuracy\")\n",
        "plt.legend()\n",
        "plt.grid()\n",
        "\n",
        "plt.subplot(1, 2, 2)\n",
        "plt.plot(epoch_train_loss, label='Training loss')\n",
        "plt.plot(epoch_test_loss, label='Testing loss')\n",
        "plt.title(\"Loss\")\n",
        "plt.legend()\n",
        "plt.grid()\n",
        "\n",
        "plt.show()"
      ]
    }
  ],
  "metadata": {
    "colab": {
      "provenance": []
    },
    "kernelspec": {
      "display_name": "Python 3",
      "language": "python",
      "name": "python3"
    },
    "language_info": {
      "codemirror_mode": {
        "name": "ipython",
        "version": 3
      },
      "file_extension": ".py",
      "mimetype": "text/x-python",
      "name": "python",
      "nbconvert_exporter": "python",
      "pygments_lexer": "ipython3",
      "version": "3.6.6"
    }
  },
  "nbformat": 4,
  "nbformat_minor": 0
}